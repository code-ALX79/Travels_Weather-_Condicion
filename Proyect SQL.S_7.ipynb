{
 "cells": [
  {
   "cell_type": "markdown",
   "metadata": {},
   "source": [
    "----"
   ]
  },
  {
   "cell_type": "markdown",
   "metadata": {},
   "source": [
    "# TRPLTN PROYECT PYTHON/SQL S.6"
   ]
  },
  {
   "cell_type": "markdown",
   "metadata": {},
   "source": [
    "***Una vez que recuperamos la informacion necesaria y generamos las tablas con los datos mas importantes, lo siguinete consist en analizar la informacion mediante python para comprobar si el clima o el dia de semana en el que los clinetes se movilicen afecta a los rsultados de cada una de las compañias de taxis, para poder enfatizar una toma de decisiones mas objetiva basada en los datos que pueda generar mejores resultados al tomar accion sobre los mismos.***"
   ]
  },
  {
   "cell_type": "markdown",
   "metadata": {},
   "source": [
    "**Vamos a realizar un analisis  exhaustivo de los datos recuperados para tener la informacion mas exacta y generar una exelente labor de analisis para que las decisiones tomadas con base a ellos sean las mas idoneas y poder tomar como referencia este tipo de analisis y recuperacion de datos para futuras deciociones respecto a este campo de trabajo, tomaremos en cunta los timepos y el clima como tal para seguir avanzando como profesionales en el camino del analisis adecuado y por supuesto para que la compañia a quien seran entregados los resultados tenga un excelente feedback para el departamento de analitica.**"
   ]
  },
  {
   "cell_type": "markdown",
   "metadata": {},
   "source": [
    "# 1. Importar las librerias"
   ]
  },
  {
   "cell_type": "code",
   "execution_count": 1,
   "metadata": {},
   "outputs": [],
   "source": [
    "import pandas as pd\n",
    "import matplotlib.pyplot as plt\n",
    "from scipy import stats"
   ]
  },
  {
   "cell_type": "markdown",
   "metadata": {},
   "source": [
    "## Se leen los archivos para mostrar los datos A medinte rutas absolutas"
   ]
  },
  {
   "cell_type": "code",
   "execution_count": 2,
   "metadata": {},
   "outputs": [],
   "source": [
    "df_cpny = \"moved_project_sql_result_01 (3).csv\"\n",
    "\n",
    "df_travels = \"moved_project_sql_result_04.csv\"\n",
    "\n",
    "df_weather_tt = \"moved_project_sql_result_07.csv\""
   ]
  },
  {
   "cell_type": "code",
   "execution_count": 3,
   "metadata": {},
   "outputs": [],
   "source": [
    "df_cpny = pd.read_csv ('moved_project_sql_result_01 (3).csv')\n",
    "df_travels = pd.read_csv ('moved_project_sql_result_04.csv')\n",
    "df_weather_tt = pd.read_csv ('moved_project_sql_result_07.csv')"
   ]
  },
  {
   "cell_type": "code",
   "execution_count": 4,
   "metadata": {},
   "outputs": [
    {
     "data": {
      "text/html": [
       "<div>\n",
       "<style scoped>\n",
       "    .dataframe tbody tr th:only-of-type {\n",
       "        vertical-align: middle;\n",
       "    }\n",
       "\n",
       "    .dataframe tbody tr th {\n",
       "        vertical-align: top;\n",
       "    }\n",
       "\n",
       "    .dataframe thead th {\n",
       "        text-align: right;\n",
       "    }\n",
       "</style>\n",
       "<table border=\"1\" class=\"dataframe\">\n",
       "  <thead>\n",
       "    <tr style=\"text-align: right;\">\n",
       "      <th></th>\n",
       "      <th>company_name</th>\n",
       "      <th>trips_amount</th>\n",
       "    </tr>\n",
       "  </thead>\n",
       "  <tbody>\n",
       "    <tr>\n",
       "      <th>0</th>\n",
       "      <td>Flash Cab</td>\n",
       "      <td>19558</td>\n",
       "    </tr>\n",
       "    <tr>\n",
       "      <th>1</th>\n",
       "      <td>Taxi Affiliation Services</td>\n",
       "      <td>11422</td>\n",
       "    </tr>\n",
       "    <tr>\n",
       "      <th>2</th>\n",
       "      <td>Medallion Leasin</td>\n",
       "      <td>10367</td>\n",
       "    </tr>\n",
       "    <tr>\n",
       "      <th>3</th>\n",
       "      <td>Yellow Cab</td>\n",
       "      <td>9888</td>\n",
       "    </tr>\n",
       "    <tr>\n",
       "      <th>4</th>\n",
       "      <td>Taxi Affiliation Service Yellow</td>\n",
       "      <td>9299</td>\n",
       "    </tr>\n",
       "    <tr>\n",
       "      <th>5</th>\n",
       "      <td>Chicago Carriage Cab Corp</td>\n",
       "      <td>9181</td>\n",
       "    </tr>\n",
       "    <tr>\n",
       "      <th>6</th>\n",
       "      <td>City Service</td>\n",
       "      <td>8448</td>\n",
       "    </tr>\n",
       "    <tr>\n",
       "      <th>7</th>\n",
       "      <td>Sun Taxi</td>\n",
       "      <td>7701</td>\n",
       "    </tr>\n",
       "    <tr>\n",
       "      <th>8</th>\n",
       "      <td>Star North Management LLC</td>\n",
       "      <td>7455</td>\n",
       "    </tr>\n",
       "    <tr>\n",
       "      <th>9</th>\n",
       "      <td>Blue Ribbon Taxi Association Inc.</td>\n",
       "      <td>5953</td>\n",
       "    </tr>\n",
       "  </tbody>\n",
       "</table>\n",
       "</div>"
      ],
      "text/plain": [
       "                        company_name  trips_amount\n",
       "0                          Flash Cab         19558\n",
       "1          Taxi Affiliation Services         11422\n",
       "2                   Medallion Leasin         10367\n",
       "3                         Yellow Cab          9888\n",
       "4    Taxi Affiliation Service Yellow          9299\n",
       "5          Chicago Carriage Cab Corp          9181\n",
       "6                       City Service          8448\n",
       "7                           Sun Taxi          7701\n",
       "8          Star North Management LLC          7455\n",
       "9  Blue Ribbon Taxi Association Inc.          5953"
      ]
     },
     "execution_count": 4,
     "metadata": {},
     "output_type": "execute_result"
    }
   ],
   "source": [
    "df_cpny.head(10)"
   ]
  },
  {
   "cell_type": "markdown",
   "metadata": {},
   "source": [
    "Observamos la informacion general de los datos"
   ]
  },
  {
   "cell_type": "code",
   "execution_count": 5,
   "metadata": {},
   "outputs": [
    {
     "name": "stdout",
     "output_type": "stream",
     "text": [
      "<class 'pandas.core.frame.DataFrame'>\n",
      "RangeIndex: 64 entries, 0 to 63\n",
      "Data columns (total 2 columns):\n",
      " #   Column        Non-Null Count  Dtype \n",
      "---  ------        --------------  ----- \n",
      " 0   company_name  64 non-null     object\n",
      " 1   trips_amount  64 non-null     int64 \n",
      "dtypes: int64(1), object(1)\n",
      "memory usage: 1.1+ KB\n"
     ]
    }
   ],
   "source": [
    "df_cpny.info()"
   ]
  },
  {
   "cell_type": "markdown",
   "metadata": {},
   "source": [
    "Notamos que los datos son del tipo adecuado de momento, vamos a verificar la descripcion de los mismos y verificar valores nulos y duplicados."
   ]
  },
  {
   "cell_type": "code",
   "execution_count": 6,
   "metadata": {},
   "outputs": [
    {
     "data": {
      "text/html": [
       "<div>\n",
       "<style scoped>\n",
       "    .dataframe tbody tr th:only-of-type {\n",
       "        vertical-align: middle;\n",
       "    }\n",
       "\n",
       "    .dataframe tbody tr th {\n",
       "        vertical-align: top;\n",
       "    }\n",
       "\n",
       "    .dataframe thead th {\n",
       "        text-align: right;\n",
       "    }\n",
       "</style>\n",
       "<table border=\"1\" class=\"dataframe\">\n",
       "  <thead>\n",
       "    <tr style=\"text-align: right;\">\n",
       "      <th></th>\n",
       "      <th>trips_amount</th>\n",
       "    </tr>\n",
       "  </thead>\n",
       "  <tbody>\n",
       "    <tr>\n",
       "      <th>count</th>\n",
       "      <td>64.000000</td>\n",
       "    </tr>\n",
       "    <tr>\n",
       "      <th>mean</th>\n",
       "      <td>2145.484375</td>\n",
       "    </tr>\n",
       "    <tr>\n",
       "      <th>std</th>\n",
       "      <td>3812.310186</td>\n",
       "    </tr>\n",
       "    <tr>\n",
       "      <th>min</th>\n",
       "      <td>2.000000</td>\n",
       "    </tr>\n",
       "    <tr>\n",
       "      <th>25%</th>\n",
       "      <td>20.750000</td>\n",
       "    </tr>\n",
       "    <tr>\n",
       "      <th>50%</th>\n",
       "      <td>178.500000</td>\n",
       "    </tr>\n",
       "    <tr>\n",
       "      <th>75%</th>\n",
       "      <td>2106.500000</td>\n",
       "    </tr>\n",
       "    <tr>\n",
       "      <th>max</th>\n",
       "      <td>19558.000000</td>\n",
       "    </tr>\n",
       "  </tbody>\n",
       "</table>\n",
       "</div>"
      ],
      "text/plain": [
       "       trips_amount\n",
       "count     64.000000\n",
       "mean    2145.484375\n",
       "std     3812.310186\n",
       "min        2.000000\n",
       "25%       20.750000\n",
       "50%      178.500000\n",
       "75%     2106.500000\n",
       "max    19558.000000"
      ]
     },
     "execution_count": 6,
     "metadata": {},
     "output_type": "execute_result"
    }
   ],
   "source": [
    "df_cpny.describe()"
   ]
  },
  {
   "cell_type": "markdown",
   "metadata": {},
   "source": [
    "Siempre es bueno tener una descripcion general de los datos para asegurarnos de que sus estadisticas descriptivas esten acorde a el objetivo a que queremos llegar con la tabla."
   ]
  },
  {
   "cell_type": "code",
   "execution_count": 7,
   "metadata": {},
   "outputs": [
    {
     "data": {
      "text/plain": [
       "company_name    0\n",
       "trips_amount    0\n",
       "dtype: int64"
      ]
     },
     "execution_count": 7,
     "metadata": {},
     "output_type": "execute_result"
    }
   ],
   "source": [
    "df_cpny.isna().sum()"
   ]
  },
  {
   "cell_type": "markdown",
   "metadata": {},
   "source": [
    "Al no encontrar valores nulos en nuestra tabla asumimos que tendremos datos limpios con los que podremos llegar a conclusiones mas exactascon este dataframe."
   ]
  },
  {
   "cell_type": "code",
   "execution_count": 8,
   "metadata": {},
   "outputs": [
    {
     "data": {
      "text/html": [
       "<div>\n",
       "<style scoped>\n",
       "    .dataframe tbody tr th:only-of-type {\n",
       "        vertical-align: middle;\n",
       "    }\n",
       "\n",
       "    .dataframe tbody tr th {\n",
       "        vertical-align: top;\n",
       "    }\n",
       "\n",
       "    .dataframe thead th {\n",
       "        text-align: right;\n",
       "    }\n",
       "</style>\n",
       "<table border=\"1\" class=\"dataframe\">\n",
       "  <thead>\n",
       "    <tr style=\"text-align: right;\">\n",
       "      <th></th>\n",
       "      <th>index</th>\n",
       "      <th>0</th>\n",
       "    </tr>\n",
       "  </thead>\n",
       "  <tbody>\n",
       "    <tr>\n",
       "      <th>0</th>\n",
       "      <td>0</td>\n",
       "      <td>False</td>\n",
       "    </tr>\n",
       "    <tr>\n",
       "      <th>1</th>\n",
       "      <td>1</td>\n",
       "      <td>False</td>\n",
       "    </tr>\n",
       "    <tr>\n",
       "      <th>2</th>\n",
       "      <td>2</td>\n",
       "      <td>False</td>\n",
       "    </tr>\n",
       "    <tr>\n",
       "      <th>3</th>\n",
       "      <td>3</td>\n",
       "      <td>False</td>\n",
       "    </tr>\n",
       "    <tr>\n",
       "      <th>4</th>\n",
       "      <td>4</td>\n",
       "      <td>False</td>\n",
       "    </tr>\n",
       "    <tr>\n",
       "      <th>...</th>\n",
       "      <td>...</td>\n",
       "      <td>...</td>\n",
       "    </tr>\n",
       "    <tr>\n",
       "      <th>59</th>\n",
       "      <td>59</td>\n",
       "      <td>False</td>\n",
       "    </tr>\n",
       "    <tr>\n",
       "      <th>60</th>\n",
       "      <td>60</td>\n",
       "      <td>False</td>\n",
       "    </tr>\n",
       "    <tr>\n",
       "      <th>61</th>\n",
       "      <td>61</td>\n",
       "      <td>False</td>\n",
       "    </tr>\n",
       "    <tr>\n",
       "      <th>62</th>\n",
       "      <td>62</td>\n",
       "      <td>False</td>\n",
       "    </tr>\n",
       "    <tr>\n",
       "      <th>63</th>\n",
       "      <td>63</td>\n",
       "      <td>False</td>\n",
       "    </tr>\n",
       "  </tbody>\n",
       "</table>\n",
       "<p>64 rows × 2 columns</p>\n",
       "</div>"
      ],
      "text/plain": [
       "    index      0\n",
       "0       0  False\n",
       "1       1  False\n",
       "2       2  False\n",
       "3       3  False\n",
       "4       4  False\n",
       "..    ...    ...\n",
       "59     59  False\n",
       "60     60  False\n",
       "61     61  False\n",
       "62     62  False\n",
       "63     63  False\n",
       "\n",
       "[64 rows x 2 columns]"
      ]
     },
     "execution_count": 8,
     "metadata": {},
     "output_type": "execute_result"
    }
   ],
   "source": [
    "df_cpny.duplicated().reset_index()"
   ]
  },
  {
   "cell_type": "markdown",
   "metadata": {},
   "source": [
    "Esto nos indica que no tenemos valores duplicados en nuestra tabla ya que tenemos una columna de False"
   ]
  },
  {
   "cell_type": "markdown",
   "metadata": {},
   "source": [
    "Para finslizar con el analisis de este dataframe, tambien podriamos reaslizar una ilustracion en un grafico de barras para verificar que empresa ha sido la mas solicitada los dias 15 y 16 de noviembre del año 2017."
   ]
  },
  {
   "cell_type": "code",
   "execution_count": 9,
   "metadata": {},
   "outputs": [
    {
     "data": {
      "image/png": "[encoded data removed]",
      "text/plain": [
       "<Figure size 1200x800 with 1 Axes>"
      ]
     },
     "metadata": {},
     "output_type": "display_data"
    }
   ],
   "source": [
    "plt.figure(figsize=(12, 8))\n",
    "df_cpny_sorted = df_cpny.sort_values(by='trips_amount', ascending=False)\n",
    "plt.bar(df_cpny_sorted['company_name'], df_cpny_sorted['trips_amount'], color='magenta')\n",
    "plt.xlabel('Nombre de la Empresa de Taxis', fontsize=12)\n",
    "plt.ylabel('Número de Viajes', fontsize=12)\n",
    "plt.title('Número de Viajes por Empresa de Taxis\\n(15 y 16 de noviembre de 2017)', fontsize=14)\n",
    "plt.xticks(rotation=90)\n",
    "plt.grid(axis='y')\n",
    "plt.tight_layout()\n",
    "plt.show()"
   ]
  },
  {
   "cell_type": "markdown",
   "metadata": {},
   "source": [
    "Ahora mediante este grafico de barras, notamos que la empresa que mayor numero de viajes ha tenido es la de Flash Cab y tambien notamos que existen empresas que no han generado ningun viaje en estos 2 dias."
   ]
  },
  {
   "cell_type": "markdown",
   "metadata": {},
   "source": [
    "**Con este analisis exploratorio podriamos decir que no tenemos problemas co el dataframe df_cpny que contiene el nombre de la compañia de taxis y sus viajes realizados, ahora vamos a hacer un analisis por el tiempo de entrada y de salida de cada uno de los taxis.**"
   ]
  },
  {
   "cell_type": "code",
   "execution_count": 10,
   "metadata": {},
   "outputs": [
    {
     "data": {
      "text/html": [
       "<div>\n",
       "<style scoped>\n",
       "    .dataframe tbody tr th:only-of-type {\n",
       "        vertical-align: middle;\n",
       "    }\n",
       "\n",
       "    .dataframe tbody tr th {\n",
       "        vertical-align: top;\n",
       "    }\n",
       "\n",
       "    .dataframe thead th {\n",
       "        text-align: right;\n",
       "    }\n",
       "</style>\n",
       "<table border=\"1\" class=\"dataframe\">\n",
       "  <thead>\n",
       "    <tr style=\"text-align: right;\">\n",
       "      <th></th>\n",
       "      <th>dropoff_location_name</th>\n",
       "      <th>average_trips</th>\n",
       "    </tr>\n",
       "  </thead>\n",
       "  <tbody>\n",
       "    <tr>\n",
       "      <th>0</th>\n",
       "      <td>Loop</td>\n",
       "      <td>10727.466667</td>\n",
       "    </tr>\n",
       "    <tr>\n",
       "      <th>1</th>\n",
       "      <td>River North</td>\n",
       "      <td>9523.666667</td>\n",
       "    </tr>\n",
       "    <tr>\n",
       "      <th>2</th>\n",
       "      <td>Streeterville</td>\n",
       "      <td>6664.666667</td>\n",
       "    </tr>\n",
       "    <tr>\n",
       "      <th>3</th>\n",
       "      <td>West Loop</td>\n",
       "      <td>5163.666667</td>\n",
       "    </tr>\n",
       "    <tr>\n",
       "      <th>4</th>\n",
       "      <td>O'Hare</td>\n",
       "      <td>2546.900000</td>\n",
       "    </tr>\n",
       "  </tbody>\n",
       "</table>\n",
       "</div>"
      ],
      "text/plain": [
       "  dropoff_location_name  average_trips\n",
       "0                  Loop   10727.466667\n",
       "1           River North    9523.666667\n",
       "2         Streeterville    6664.666667\n",
       "3             West Loop    5163.666667\n",
       "4                O'Hare    2546.900000"
      ]
     },
     "execution_count": 10,
     "metadata": {},
     "output_type": "execute_result"
    }
   ],
   "source": [
    "df_travels.head()"
   ]
  },
  {
   "cell_type": "markdown",
   "metadata": {},
   "source": [
    "Este es nuestro siguiente Dataframe a analizar que contiene el lugar de finalizacion de viaje y el promedio de viajes que terminaron en cada barrio en noviembre de 2017."
   ]
  },
  {
   "cell_type": "code",
   "execution_count": 11,
   "metadata": {},
   "outputs": [
    {
     "name": "stdout",
     "output_type": "stream",
     "text": [
      "<class 'pandas.core.frame.DataFrame'>\n",
      "RangeIndex: 94 entries, 0 to 93\n",
      "Data columns (total 2 columns):\n",
      " #   Column                 Non-Null Count  Dtype  \n",
      "---  ------                 --------------  -----  \n",
      " 0   dropoff_location_name  94 non-null     object \n",
      " 1   average_trips          94 non-null     float64\n",
      "dtypes: float64(1), object(1)\n",
      "memory usage: 1.6+ KB\n"
     ]
    }
   ],
   "source": [
    "df_travels.info()"
   ]
  },
  {
   "cell_type": "markdown",
   "metadata": {},
   "source": [
    "La informacion general, nos indica que nuestro dataframe tiene 93 filas, 2 columnas y que nuestros datos son del tipo correcto hastael momento estos se veran modificados de ser necesario en el futuro."
   ]
  },
  {
   "cell_type": "code",
   "execution_count": 12,
   "metadata": {},
   "outputs": [
    {
     "data": {
      "text/html": [
       "<div>\n",
       "<style scoped>\n",
       "    .dataframe tbody tr th:only-of-type {\n",
       "        vertical-align: middle;\n",
       "    }\n",
       "\n",
       "    .dataframe tbody tr th {\n",
       "        vertical-align: top;\n",
       "    }\n",
       "\n",
       "    .dataframe thead th {\n",
       "        text-align: right;\n",
       "    }\n",
       "</style>\n",
       "<table border=\"1\" class=\"dataframe\">\n",
       "  <thead>\n",
       "    <tr style=\"text-align: right;\">\n",
       "      <th></th>\n",
       "      <th>average_trips</th>\n",
       "    </tr>\n",
       "  </thead>\n",
       "  <tbody>\n",
       "    <tr>\n",
       "      <th>count</th>\n",
       "      <td>94.000000</td>\n",
       "    </tr>\n",
       "    <tr>\n",
       "      <th>mean</th>\n",
       "      <td>599.953728</td>\n",
       "    </tr>\n",
       "    <tr>\n",
       "      <th>std</th>\n",
       "      <td>1714.591098</td>\n",
       "    </tr>\n",
       "    <tr>\n",
       "      <th>min</th>\n",
       "      <td>1.800000</td>\n",
       "    </tr>\n",
       "    <tr>\n",
       "      <th>25%</th>\n",
       "      <td>14.266667</td>\n",
       "    </tr>\n",
       "    <tr>\n",
       "      <th>50%</th>\n",
       "      <td>52.016667</td>\n",
       "    </tr>\n",
       "    <tr>\n",
       "      <th>75%</th>\n",
       "      <td>298.858333</td>\n",
       "    </tr>\n",
       "    <tr>\n",
       "      <th>max</th>\n",
       "      <td>10727.466667</td>\n",
       "    </tr>\n",
       "  </tbody>\n",
       "</table>\n",
       "</div>"
      ],
      "text/plain": [
       "       average_trips\n",
       "count      94.000000\n",
       "mean      599.953728\n",
       "std      1714.591098\n",
       "min         1.800000\n",
       "25%        14.266667\n",
       "50%        52.016667\n",
       "75%       298.858333\n",
       "max     10727.466667"
      ]
     },
     "execution_count": 12,
     "metadata": {},
     "output_type": "execute_result"
    }
   ],
   "source": [
    "df_travels.describe()"
   ]
  },
  {
   "cell_type": "markdown",
   "metadata": {},
   "source": [
    "Gracias a la descripcion de los datos observamos buenas metricas para los datos en la tabla."
   ]
  },
  {
   "cell_type": "code",
   "execution_count": 13,
   "metadata": {},
   "outputs": [
    {
     "data": {
      "text/plain": [
       "dropoff_location_name    0\n",
       "average_trips            0\n",
       "dtype: int64"
      ]
     },
     "execution_count": 13,
     "metadata": {},
     "output_type": "execute_result"
    }
   ],
   "source": [
    "df_travels.isna().sum()"
   ]
  },
  {
   "cell_type": "markdown",
   "metadata": {},
   "source": [
    "No tenemos valores ausentes en nustra tabla pero tambien vamos verificar los duplicados. "
   ]
  },
  {
   "cell_type": "code",
   "execution_count": 14,
   "metadata": {},
   "outputs": [
    {
     "data": {
      "text/plain": [
       "0"
      ]
     },
     "execution_count": 14,
     "metadata": {},
     "output_type": "execute_result"
    }
   ],
   "source": [
    "df_travels.duplicated().sum()"
   ]
  },
  {
   "cell_type": "markdown",
   "metadata": {},
   "source": [
    "Ahora, al denotar que no existen valores duplicados ni ausentes, podremos identificar los 10 principales barrios en términos de finalización del recorrido."
   ]
  },
  {
   "cell_type": "code",
   "execution_count": 15,
   "metadata": {},
   "outputs": [
    {
     "data": {
      "text/html": [
       "<div>\n",
       "<style scoped>\n",
       "    .dataframe tbody tr th:only-of-type {\n",
       "        vertical-align: middle;\n",
       "    }\n",
       "\n",
       "    .dataframe tbody tr th {\n",
       "        vertical-align: top;\n",
       "    }\n",
       "\n",
       "    .dataframe thead th {\n",
       "        text-align: right;\n",
       "    }\n",
       "</style>\n",
       "<table border=\"1\" class=\"dataframe\">\n",
       "  <thead>\n",
       "    <tr style=\"text-align: right;\">\n",
       "      <th></th>\n",
       "      <th>dropoff_location_name</th>\n",
       "      <th>average_trips</th>\n",
       "    </tr>\n",
       "  </thead>\n",
       "  <tbody>\n",
       "    <tr>\n",
       "      <th>0</th>\n",
       "      <td>Loop</td>\n",
       "      <td>10727.466667</td>\n",
       "    </tr>\n",
       "    <tr>\n",
       "      <th>1</th>\n",
       "      <td>River North</td>\n",
       "      <td>9523.666667</td>\n",
       "    </tr>\n",
       "    <tr>\n",
       "      <th>2</th>\n",
       "      <td>Streeterville</td>\n",
       "      <td>6664.666667</td>\n",
       "    </tr>\n",
       "    <tr>\n",
       "      <th>3</th>\n",
       "      <td>West Loop</td>\n",
       "      <td>5163.666667</td>\n",
       "    </tr>\n",
       "    <tr>\n",
       "      <th>4</th>\n",
       "      <td>O'Hare</td>\n",
       "      <td>2546.900000</td>\n",
       "    </tr>\n",
       "    <tr>\n",
       "      <th>5</th>\n",
       "      <td>Lake View</td>\n",
       "      <td>2420.966667</td>\n",
       "    </tr>\n",
       "    <tr>\n",
       "      <th>6</th>\n",
       "      <td>Grant Park</td>\n",
       "      <td>2068.533333</td>\n",
       "    </tr>\n",
       "    <tr>\n",
       "      <th>7</th>\n",
       "      <td>Museum Campus</td>\n",
       "      <td>1510.000000</td>\n",
       "    </tr>\n",
       "    <tr>\n",
       "      <th>8</th>\n",
       "      <td>Gold Coast</td>\n",
       "      <td>1364.233333</td>\n",
       "    </tr>\n",
       "    <tr>\n",
       "      <th>9</th>\n",
       "      <td>Sheffield &amp; DePaul</td>\n",
       "      <td>1259.766667</td>\n",
       "    </tr>\n",
       "  </tbody>\n",
       "</table>\n",
       "</div>"
      ],
      "text/plain": [
       "  dropoff_location_name  average_trips\n",
       "0                  Loop   10727.466667\n",
       "1           River North    9523.666667\n",
       "2         Streeterville    6664.666667\n",
       "3             West Loop    5163.666667\n",
       "4                O'Hare    2546.900000\n",
       "5             Lake View    2420.966667\n",
       "6            Grant Park    2068.533333\n",
       "7         Museum Campus    1510.000000\n",
       "8            Gold Coast    1364.233333\n",
       "9    Sheffield & DePaul    1259.766667"
      ]
     },
     "execution_count": 15,
     "metadata": {},
     "output_type": "execute_result"
    }
   ],
   "source": [
    "top_neighborhoods = df_travels.nlargest(10, 'average_trips')\n",
    "top_neighborhoods.head(10)"
   ]
  },
  {
   "cell_type": "markdown",
   "metadata": {},
   "source": [
    "Mediante esta tabla notamos en promedio cuales son los principlaes barrios en los que se han finalizado los recorridos, y seria mucho mas facil, tambien poder observarlos en un drafico de barras."
   ]
  },
  {
   "cell_type": "code",
   "execution_count": 16,
   "metadata": {},
   "outputs": [
    {
     "data": {
      "image/png": "[encoded data removed]",
      "text/plain": [
       "<Figure size 1200x800 with 1 Axes>"
      ]
     },
     "metadata": {},
     "output_type": "display_data"
    }
   ],
   "source": [
    "plt.figure(figsize=(12, 8))\n",
    "plt.bar(top_neighborhoods['dropoff_location_name'], top_neighborhoods['average_trips'], color='green')\n",
    "plt.title('Top 10 Barrios de Chicago por Promedio de Viajes en Noviembre de 2017')\n",
    "plt.xlabel('Barrios')\n",
    "plt.ylabel('Promedio de Viajes')\n",
    "plt.xticks(rotation=45)\n",
    "plt.show()"
   ]
  },
  {
   "cell_type": "markdown",
   "metadata": {},
   "source": [
    "**De esta manera, notamos que en promedio los barrios que tiene mayor finalizaciones de recorridos estan entre Loop y sheffield & DePaul, este diagrama sera de mucha ayuda para relacionarlos con las condiciones climaticas y el lugar y fecha de la recogida.**"
   ]
  },
  {
   "cell_type": "markdown",
   "metadata": {},
   "source": [
    "Ahora analizaremos el dataframe que contien la fecha de la recoguida, las condiciones climaticas y la duracion en segundos de cada viaje."
   ]
  },
  {
   "cell_type": "code",
   "execution_count": 17,
   "metadata": {},
   "outputs": [
    {
     "data": {
      "text/html": [
       "<div>\n",
       "<style scoped>\n",
       "    .dataframe tbody tr th:only-of-type {\n",
       "        vertical-align: middle;\n",
       "    }\n",
       "\n",
       "    .dataframe tbody tr th {\n",
       "        vertical-align: top;\n",
       "    }\n",
       "\n",
       "    .dataframe thead th {\n",
       "        text-align: right;\n",
       "    }\n",
       "</style>\n",
       "<table border=\"1\" class=\"dataframe\">\n",
       "  <thead>\n",
       "    <tr style=\"text-align: right;\">\n",
       "      <th></th>\n",
       "      <th>start_ts</th>\n",
       "      <th>weather_conditions</th>\n",
       "      <th>duration_seconds</th>\n",
       "    </tr>\n",
       "  </thead>\n",
       "  <tbody>\n",
       "    <tr>\n",
       "      <th>0</th>\n",
       "      <td>2017-11-25 16:00:00</td>\n",
       "      <td>Good</td>\n",
       "      <td>2410.0</td>\n",
       "    </tr>\n",
       "    <tr>\n",
       "      <th>1</th>\n",
       "      <td>2017-11-25 14:00:00</td>\n",
       "      <td>Good</td>\n",
       "      <td>1920.0</td>\n",
       "    </tr>\n",
       "    <tr>\n",
       "      <th>2</th>\n",
       "      <td>2017-11-25 12:00:00</td>\n",
       "      <td>Good</td>\n",
       "      <td>1543.0</td>\n",
       "    </tr>\n",
       "    <tr>\n",
       "      <th>3</th>\n",
       "      <td>2017-11-04 10:00:00</td>\n",
       "      <td>Good</td>\n",
       "      <td>2512.0</td>\n",
       "    </tr>\n",
       "    <tr>\n",
       "      <th>4</th>\n",
       "      <td>2017-11-11 07:00:00</td>\n",
       "      <td>Good</td>\n",
       "      <td>1440.0</td>\n",
       "    </tr>\n",
       "  </tbody>\n",
       "</table>\n",
       "</div>"
      ],
      "text/plain": [
       "              start_ts weather_conditions  duration_seconds\n",
       "0  2017-11-25 16:00:00               Good            2410.0\n",
       "1  2017-11-25 14:00:00               Good            1920.0\n",
       "2  2017-11-25 12:00:00               Good            1543.0\n",
       "3  2017-11-04 10:00:00               Good            2512.0\n",
       "4  2017-11-11 07:00:00               Good            1440.0"
      ]
     },
     "execution_count": 17,
     "metadata": {},
     "output_type": "execute_result"
    }
   ],
   "source": [
    "df_weather_tt.head()"
   ]
  },
  {
   "cell_type": "markdown",
   "metadata": {},
   "source": [
    "Observamos la informacion general de los datos."
   ]
  },
  {
   "cell_type": "code",
   "execution_count": 18,
   "metadata": {},
   "outputs": [
    {
     "name": "stdout",
     "output_type": "stream",
     "text": [
      "<class 'pandas.core.frame.DataFrame'>\n",
      "RangeIndex: 1068 entries, 0 to 1067\n",
      "Data columns (total 3 columns):\n",
      " #   Column              Non-Null Count  Dtype  \n",
      "---  ------              --------------  -----  \n",
      " 0   start_ts            1068 non-null   object \n",
      " 1   weather_conditions  1068 non-null   object \n",
      " 2   duration_seconds    1068 non-null   float64\n",
      "dtypes: float64(1), object(2)\n",
      "memory usage: 25.2+ KB\n"
     ]
    }
   ],
   "source": [
    "df_weather_tt.info()"
   ]
  },
  {
   "cell_type": "markdown",
   "metadata": {},
   "source": [
    "observamos alrededor de 1068 filas pero solo 3 columnas de las cuales 2 son de tipo objeto y una de tipo float64, en este punto puede ser necerasio cambiar algunos tipos de datos"
   ]
  },
  {
   "cell_type": "code",
   "execution_count": 19,
   "metadata": {},
   "outputs": [
    {
     "data": {
      "text/plain": [
       "start_ts              0\n",
       "weather_conditions    0\n",
       "duration_seconds      0\n",
       "dtype: int64"
      ]
     },
     "execution_count": 19,
     "metadata": {},
     "output_type": "execute_result"
    }
   ],
   "source": [
    "df_weather_tt.isna().sum()"
   ]
  },
  {
   "cell_type": "code",
   "execution_count": 20,
   "metadata": {},
   "outputs": [
    {
     "data": {
      "text/plain": [
       "197"
      ]
     },
     "execution_count": 20,
     "metadata": {},
     "output_type": "execute_result"
    }
   ],
   "source": [
    "df_weather_tt.duplicated().sum()"
   ]
  },
  {
   "cell_type": "markdown",
   "metadata": {},
   "source": [
    "Al denotar  q existen valores duplicados pero no  ausentes, en nustro dataframe, lo siguinete es realizar una descripcion general de los mismos para veficar sus estadisticas mas importantes."
   ]
  },
  {
   "cell_type": "code",
   "execution_count": 21,
   "metadata": {},
   "outputs": [
    {
     "data": {
      "text/html": [
       "<div>\n",
       "<style scoped>\n",
       "    .dataframe tbody tr th:only-of-type {\n",
       "        vertical-align: middle;\n",
       "    }\n",
       "\n",
       "    .dataframe tbody tr th {\n",
       "        vertical-align: top;\n",
       "    }\n",
       "\n",
       "    .dataframe thead th {\n",
       "        text-align: right;\n",
       "    }\n",
       "</style>\n",
       "<table border=\"1\" class=\"dataframe\">\n",
       "  <thead>\n",
       "    <tr style=\"text-align: right;\">\n",
       "      <th></th>\n",
       "      <th>duration_seconds</th>\n",
       "    </tr>\n",
       "  </thead>\n",
       "  <tbody>\n",
       "    <tr>\n",
       "      <th>count</th>\n",
       "      <td>1068.000000</td>\n",
       "    </tr>\n",
       "    <tr>\n",
       "      <th>mean</th>\n",
       "      <td>2071.731273</td>\n",
       "    </tr>\n",
       "    <tr>\n",
       "      <th>std</th>\n",
       "      <td>769.461125</td>\n",
       "    </tr>\n",
       "    <tr>\n",
       "      <th>min</th>\n",
       "      <td>0.000000</td>\n",
       "    </tr>\n",
       "    <tr>\n",
       "      <th>25%</th>\n",
       "      <td>1438.250000</td>\n",
       "    </tr>\n",
       "    <tr>\n",
       "      <th>50%</th>\n",
       "      <td>1980.000000</td>\n",
       "    </tr>\n",
       "    <tr>\n",
       "      <th>75%</th>\n",
       "      <td>2580.000000</td>\n",
       "    </tr>\n",
       "    <tr>\n",
       "      <th>max</th>\n",
       "      <td>7440.000000</td>\n",
       "    </tr>\n",
       "  </tbody>\n",
       "</table>\n",
       "</div>"
      ],
      "text/plain": [
       "       duration_seconds\n",
       "count       1068.000000\n",
       "mean        2071.731273\n",
       "std          769.461125\n",
       "min            0.000000\n",
       "25%         1438.250000\n",
       "50%         1980.000000\n",
       "75%         2580.000000\n",
       "max         7440.000000"
      ]
     },
     "execution_count": 21,
     "metadata": {},
     "output_type": "execute_result"
    }
   ],
   "source": [
    "df_weather_tt.describe()"
   ]
  },
  {
   "cell_type": "markdown",
   "metadata": {},
   "source": [
    "Siempre es bueno realizar una descripcion degenral de los datos, sobre toso si estos seran tomados en cuenta para realizar una prueba de hipotesis."
   ]
  },
  {
   "cell_type": "markdown",
   "metadata": {},
   "source": [
    "Ahora cambiemos los datos al tipo de datos correctos y volveremos a verificar las informacion general para verificar que hayamos efectuado el cambio."
   ]
  },
  {
   "cell_type": "code",
   "execution_count": 22,
   "metadata": {},
   "outputs": [
    {
     "data": {
      "text/html": [
       "<div>\n",
       "<style scoped>\n",
       "    .dataframe tbody tr th:only-of-type {\n",
       "        vertical-align: middle;\n",
       "    }\n",
       "\n",
       "    .dataframe tbody tr th {\n",
       "        vertical-align: top;\n",
       "    }\n",
       "\n",
       "    .dataframe thead th {\n",
       "        text-align: right;\n",
       "    }\n",
       "</style>\n",
       "<table border=\"1\" class=\"dataframe\">\n",
       "  <thead>\n",
       "    <tr style=\"text-align: right;\">\n",
       "      <th></th>\n",
       "      <th>start_ts</th>\n",
       "      <th>weather_conditions</th>\n",
       "      <th>duration_seconds</th>\n",
       "    </tr>\n",
       "  </thead>\n",
       "  <tbody>\n",
       "    <tr>\n",
       "      <th>0</th>\n",
       "      <td>2017-11-25 16:00:00</td>\n",
       "      <td>Good</td>\n",
       "      <td>2410.0</td>\n",
       "    </tr>\n",
       "    <tr>\n",
       "      <th>1</th>\n",
       "      <td>2017-11-25 14:00:00</td>\n",
       "      <td>Good</td>\n",
       "      <td>1920.0</td>\n",
       "    </tr>\n",
       "    <tr>\n",
       "      <th>2</th>\n",
       "      <td>2017-11-25 12:00:00</td>\n",
       "      <td>Good</td>\n",
       "      <td>1543.0</td>\n",
       "    </tr>\n",
       "    <tr>\n",
       "      <th>3</th>\n",
       "      <td>2017-11-04 10:00:00</td>\n",
       "      <td>Good</td>\n",
       "      <td>2512.0</td>\n",
       "    </tr>\n",
       "    <tr>\n",
       "      <th>4</th>\n",
       "      <td>2017-11-11 07:00:00</td>\n",
       "      <td>Good</td>\n",
       "      <td>1440.0</td>\n",
       "    </tr>\n",
       "  </tbody>\n",
       "</table>\n",
       "</div>"
      ],
      "text/plain": [
       "              start_ts weather_conditions  duration_seconds\n",
       "0  2017-11-25 16:00:00               Good            2410.0\n",
       "1  2017-11-25 14:00:00               Good            1920.0\n",
       "2  2017-11-25 12:00:00               Good            1543.0\n",
       "3  2017-11-04 10:00:00               Good            2512.0\n",
       "4  2017-11-11 07:00:00               Good            1440.0"
      ]
     },
     "execution_count": 22,
     "metadata": {},
     "output_type": "execute_result"
    }
   ],
   "source": [
    "df_weather_tt.head()"
   ]
  },
  {
   "cell_type": "code",
   "execution_count": null,
   "metadata": {},
   "outputs": [],
   "source": []
  },
  {
   "cell_type": "code",
   "execution_count": 23,
   "metadata": {},
   "outputs": [
    {
     "data": {
      "text/plain": [
       "Index(['company_name', 'trips_amount'], dtype='object')"
      ]
     },
     "execution_count": 23,
     "metadata": {},
     "output_type": "execute_result"
    }
   ],
   "source": [
    "df_cpny.columns"
   ]
  },
  {
   "cell_type": "code",
   "execution_count": 24,
   "metadata": {},
   "outputs": [
    {
     "data": {
      "text/plain": [
       "Index(['dropoff_location_name', 'average_trips'], dtype='object')"
      ]
     },
     "execution_count": 24,
     "metadata": {},
     "output_type": "execute_result"
    }
   ],
   "source": [
    "df_travels.columns"
   ]
  },
  {
   "cell_type": "code",
   "execution_count": 25,
   "metadata": {},
   "outputs": [
    {
     "name": "stdout",
     "output_type": "stream",
     "text": [
      "<class 'pandas.core.frame.DataFrame'>\n",
      "RangeIndex: 1068 entries, 0 to 1067\n",
      "Data columns (total 3 columns):\n",
      " #   Column              Non-Null Count  Dtype         \n",
      "---  ------              --------------  -----         \n",
      " 0   start_ts            1068 non-null   datetime64[ns]\n",
      " 1   weather_conditions  1068 non-null   object        \n",
      " 2   duration_seconds    1068 non-null   float64       \n",
      "dtypes: datetime64[ns](1), float64(1), object(1)\n",
      "memory usage: 25.2+ KB\n"
     ]
    }
   ],
   "source": [
    "df_weather_tt['start_ts'] = pd.to_datetime(df_weather_tt['start_ts'])\n",
    "df_weather_tt.info()"
   ]
  },
  {
   "cell_type": "markdown",
   "metadata": {},
   "source": [
    "Una vez que nos sersioramos que los datos datos esten en el tipo correcto, lo siguinete es realizar un filtro para diferenciar dias sabdos lluviosos, de los demas dias."
   ]
  },
  {
   "cell_type": "code",
   "execution_count": 26,
   "metadata": {},
   "outputs": [
    {
     "data": {
      "text/html": [
       "<div>\n",
       "<style scoped>\n",
       "    .dataframe tbody tr th:only-of-type {\n",
       "        vertical-align: middle;\n",
       "    }\n",
       "\n",
       "    .dataframe tbody tr th {\n",
       "        vertical-align: top;\n",
       "    }\n",
       "\n",
       "    .dataframe thead th {\n",
       "        text-align: right;\n",
       "    }\n",
       "</style>\n",
       "<table border=\"1\" class=\"dataframe\">\n",
       "  <thead>\n",
       "    <tr style=\"text-align: right;\">\n",
       "      <th></th>\n",
       "      <th>start_ts</th>\n",
       "      <th>weather_conditions</th>\n",
       "      <th>duration_seconds</th>\n",
       "    </tr>\n",
       "  </thead>\n",
       "  <tbody>\n",
       "    <tr>\n",
       "      <th>0</th>\n",
       "      <td>2017-11-25 16:00:00</td>\n",
       "      <td>Good</td>\n",
       "      <td>2410.0</td>\n",
       "    </tr>\n",
       "    <tr>\n",
       "      <th>1</th>\n",
       "      <td>2017-11-25 14:00:00</td>\n",
       "      <td>Good</td>\n",
       "      <td>1920.0</td>\n",
       "    </tr>\n",
       "    <tr>\n",
       "      <th>2</th>\n",
       "      <td>2017-11-25 12:00:00</td>\n",
       "      <td>Good</td>\n",
       "      <td>1543.0</td>\n",
       "    </tr>\n",
       "    <tr>\n",
       "      <th>3</th>\n",
       "      <td>2017-11-04 10:00:00</td>\n",
       "      <td>Good</td>\n",
       "      <td>2512.0</td>\n",
       "    </tr>\n",
       "    <tr>\n",
       "      <th>4</th>\n",
       "      <td>2017-11-11 07:00:00</td>\n",
       "      <td>Good</td>\n",
       "      <td>1440.0</td>\n",
       "    </tr>\n",
       "    <tr>\n",
       "      <th>...</th>\n",
       "      <td>...</td>\n",
       "      <td>...</td>\n",
       "      <td>...</td>\n",
       "    </tr>\n",
       "    <tr>\n",
       "      <th>1063</th>\n",
       "      <td>2017-11-25 11:00:00</td>\n",
       "      <td>Good</td>\n",
       "      <td>0.0</td>\n",
       "    </tr>\n",
       "    <tr>\n",
       "      <th>1064</th>\n",
       "      <td>2017-11-11 10:00:00</td>\n",
       "      <td>Good</td>\n",
       "      <td>1318.0</td>\n",
       "    </tr>\n",
       "    <tr>\n",
       "      <th>1065</th>\n",
       "      <td>2017-11-11 13:00:00</td>\n",
       "      <td>Good</td>\n",
       "      <td>2100.0</td>\n",
       "    </tr>\n",
       "    <tr>\n",
       "      <th>1066</th>\n",
       "      <td>2017-11-11 08:00:00</td>\n",
       "      <td>Good</td>\n",
       "      <td>1380.0</td>\n",
       "    </tr>\n",
       "    <tr>\n",
       "      <th>1067</th>\n",
       "      <td>2017-11-04 16:00:00</td>\n",
       "      <td>Bad</td>\n",
       "      <td>2834.0</td>\n",
       "    </tr>\n",
       "  </tbody>\n",
       "</table>\n",
       "<p>1068 rows × 3 columns</p>\n",
       "</div>"
      ],
      "text/plain": [
       "                start_ts weather_conditions  duration_seconds\n",
       "0    2017-11-25 16:00:00               Good            2410.0\n",
       "1    2017-11-25 14:00:00               Good            1920.0\n",
       "2    2017-11-25 12:00:00               Good            1543.0\n",
       "3    2017-11-04 10:00:00               Good            2512.0\n",
       "4    2017-11-11 07:00:00               Good            1440.0\n",
       "...                  ...                ...               ...\n",
       "1063 2017-11-25 11:00:00               Good               0.0\n",
       "1064 2017-11-11 10:00:00               Good            1318.0\n",
       "1065 2017-11-11 13:00:00               Good            2100.0\n",
       "1066 2017-11-11 08:00:00               Good            1380.0\n",
       "1067 2017-11-04 16:00:00                Bad            2834.0\n",
       "\n",
       "[1068 rows x 3 columns]"
      ]
     },
     "execution_count": 26,
     "metadata": {},
     "output_type": "execute_result"
    }
   ],
   "source": [
    "df_weather_tt"
   ]
  },
  {
   "cell_type": "markdown",
   "metadata": {},
   "source": [
    "Debido a que la tabla solo contiene el sabado nuestros filtros seran enfocados unicamente al clima representado como bueno 'Good', o malo 'Bad'"
   ]
  },
  {
   "cell_type": "code",
   "execution_count": 27,
   "metadata": {},
   "outputs": [
    {
     "data": {
      "text/html": [
       "<div>\n",
       "<style scoped>\n",
       "    .dataframe tbody tr th:only-of-type {\n",
       "        vertical-align: middle;\n",
       "    }\n",
       "\n",
       "    .dataframe tbody tr th {\n",
       "        vertical-align: top;\n",
       "    }\n",
       "\n",
       "    .dataframe thead th {\n",
       "        text-align: right;\n",
       "    }\n",
       "</style>\n",
       "<table border=\"1\" class=\"dataframe\">\n",
       "  <thead>\n",
       "    <tr style=\"text-align: right;\">\n",
       "      <th></th>\n",
       "      <th>start_ts</th>\n",
       "      <th>weather_conditions</th>\n",
       "      <th>duration_seconds</th>\n",
       "    </tr>\n",
       "  </thead>\n",
       "  <tbody>\n",
       "    <tr>\n",
       "      <th>0</th>\n",
       "      <td>2017-11-25 16:00:00</td>\n",
       "      <td>Good</td>\n",
       "      <td>2410.0</td>\n",
       "    </tr>\n",
       "    <tr>\n",
       "      <th>1</th>\n",
       "      <td>2017-11-25 14:00:00</td>\n",
       "      <td>Good</td>\n",
       "      <td>1920.0</td>\n",
       "    </tr>\n",
       "    <tr>\n",
       "      <th>2</th>\n",
       "      <td>2017-11-25 12:00:00</td>\n",
       "      <td>Good</td>\n",
       "      <td>1543.0</td>\n",
       "    </tr>\n",
       "    <tr>\n",
       "      <th>3</th>\n",
       "      <td>2017-11-04 10:00:00</td>\n",
       "      <td>Good</td>\n",
       "      <td>2512.0</td>\n",
       "    </tr>\n",
       "    <tr>\n",
       "      <th>4</th>\n",
       "      <td>2017-11-11 07:00:00</td>\n",
       "      <td>Good</td>\n",
       "      <td>1440.0</td>\n",
       "    </tr>\n",
       "    <tr>\n",
       "      <th>...</th>\n",
       "      <td>...</td>\n",
       "      <td>...</td>\n",
       "      <td>...</td>\n",
       "    </tr>\n",
       "    <tr>\n",
       "      <th>1062</th>\n",
       "      <td>2017-11-11 06:00:00</td>\n",
       "      <td>Good</td>\n",
       "      <td>1500.0</td>\n",
       "    </tr>\n",
       "    <tr>\n",
       "      <th>1063</th>\n",
       "      <td>2017-11-25 11:00:00</td>\n",
       "      <td>Good</td>\n",
       "      <td>0.0</td>\n",
       "    </tr>\n",
       "    <tr>\n",
       "      <th>1064</th>\n",
       "      <td>2017-11-11 10:00:00</td>\n",
       "      <td>Good</td>\n",
       "      <td>1318.0</td>\n",
       "    </tr>\n",
       "    <tr>\n",
       "      <th>1065</th>\n",
       "      <td>2017-11-11 13:00:00</td>\n",
       "      <td>Good</td>\n",
       "      <td>2100.0</td>\n",
       "    </tr>\n",
       "    <tr>\n",
       "      <th>1066</th>\n",
       "      <td>2017-11-11 08:00:00</td>\n",
       "      <td>Good</td>\n",
       "      <td>1380.0</td>\n",
       "    </tr>\n",
       "  </tbody>\n",
       "</table>\n",
       "<p>888 rows × 3 columns</p>\n",
       "</div>"
      ],
      "text/plain": [
       "                start_ts weather_conditions  duration_seconds\n",
       "0    2017-11-25 16:00:00               Good            2410.0\n",
       "1    2017-11-25 14:00:00               Good            1920.0\n",
       "2    2017-11-25 12:00:00               Good            1543.0\n",
       "3    2017-11-04 10:00:00               Good            2512.0\n",
       "4    2017-11-11 07:00:00               Good            1440.0\n",
       "...                  ...                ...               ...\n",
       "1062 2017-11-11 06:00:00               Good            1500.0\n",
       "1063 2017-11-25 11:00:00               Good               0.0\n",
       "1064 2017-11-11 10:00:00               Good            1318.0\n",
       "1065 2017-11-11 13:00:00               Good            2100.0\n",
       "1066 2017-11-11 08:00:00               Good            1380.0\n",
       "\n",
       "[888 rows x 3 columns]"
      ]
     },
     "metadata": {},
     "output_type": "display_data"
    },
    {
     "data": {
      "text/html": [
       "<div>\n",
       "<style scoped>\n",
       "    .dataframe tbody tr th:only-of-type {\n",
       "        vertical-align: middle;\n",
       "    }\n",
       "\n",
       "    .dataframe tbody tr th {\n",
       "        vertical-align: top;\n",
       "    }\n",
       "\n",
       "    .dataframe thead th {\n",
       "        text-align: right;\n",
       "    }\n",
       "</style>\n",
       "<table border=\"1\" class=\"dataframe\">\n",
       "  <thead>\n",
       "    <tr style=\"text-align: right;\">\n",
       "      <th></th>\n",
       "      <th>start_ts</th>\n",
       "      <th>weather_conditions</th>\n",
       "      <th>duration_seconds</th>\n",
       "    </tr>\n",
       "  </thead>\n",
       "  <tbody>\n",
       "    <tr>\n",
       "      <th>6</th>\n",
       "      <td>2017-11-04 16:00:00</td>\n",
       "      <td>Bad</td>\n",
       "      <td>2969.0</td>\n",
       "    </tr>\n",
       "    <tr>\n",
       "      <th>30</th>\n",
       "      <td>2017-11-18 12:00:00</td>\n",
       "      <td>Bad</td>\n",
       "      <td>1980.0</td>\n",
       "    </tr>\n",
       "    <tr>\n",
       "      <th>34</th>\n",
       "      <td>2017-11-04 17:00:00</td>\n",
       "      <td>Bad</td>\n",
       "      <td>2460.0</td>\n",
       "    </tr>\n",
       "    <tr>\n",
       "      <th>51</th>\n",
       "      <td>2017-11-04 16:00:00</td>\n",
       "      <td>Bad</td>\n",
       "      <td>2760.0</td>\n",
       "    </tr>\n",
       "    <tr>\n",
       "      <th>52</th>\n",
       "      <td>2017-11-18 12:00:00</td>\n",
       "      <td>Bad</td>\n",
       "      <td>2460.0</td>\n",
       "    </tr>\n",
       "    <tr>\n",
       "      <th>...</th>\n",
       "      <td>...</td>\n",
       "      <td>...</td>\n",
       "      <td>...</td>\n",
       "    </tr>\n",
       "    <tr>\n",
       "      <th>1031</th>\n",
       "      <td>2017-11-18 12:00:00</td>\n",
       "      <td>Bad</td>\n",
       "      <td>2560.0</td>\n",
       "    </tr>\n",
       "    <tr>\n",
       "      <th>1032</th>\n",
       "      <td>2017-11-18 10:00:00</td>\n",
       "      <td>Bad</td>\n",
       "      <td>1908.0</td>\n",
       "    </tr>\n",
       "    <tr>\n",
       "      <th>1053</th>\n",
       "      <td>2017-11-18 12:00:00</td>\n",
       "      <td>Bad</td>\n",
       "      <td>2400.0</td>\n",
       "    </tr>\n",
       "    <tr>\n",
       "      <th>1061</th>\n",
       "      <td>2017-11-18 16:00:00</td>\n",
       "      <td>Bad</td>\n",
       "      <td>2186.0</td>\n",
       "    </tr>\n",
       "    <tr>\n",
       "      <th>1067</th>\n",
       "      <td>2017-11-04 16:00:00</td>\n",
       "      <td>Bad</td>\n",
       "      <td>2834.0</td>\n",
       "    </tr>\n",
       "  </tbody>\n",
       "</table>\n",
       "<p>180 rows × 3 columns</p>\n",
       "</div>"
      ],
      "text/plain": [
       "                start_ts weather_conditions  duration_seconds\n",
       "6    2017-11-04 16:00:00                Bad            2969.0\n",
       "30   2017-11-18 12:00:00                Bad            1980.0\n",
       "34   2017-11-04 17:00:00                Bad            2460.0\n",
       "51   2017-11-04 16:00:00                Bad            2760.0\n",
       "52   2017-11-18 12:00:00                Bad            2460.0\n",
       "...                  ...                ...               ...\n",
       "1031 2017-11-18 12:00:00                Bad            2560.0\n",
       "1032 2017-11-18 10:00:00                Bad            1908.0\n",
       "1053 2017-11-18 12:00:00                Bad            2400.0\n",
       "1061 2017-11-18 16:00:00                Bad            2186.0\n",
       "1067 2017-11-04 16:00:00                Bad            2834.0\n",
       "\n",
       "[180 rows x 3 columns]"
      ]
     },
     "metadata": {},
     "output_type": "display_data"
    }
   ],
   "source": [
    "good_weather = df_weather_tt.query('weather_conditions == \"Good\"')\n",
    "bad_weather = df_weather_tt.query('weather_conditions == \"Bad\"')\n",
    "display(good_weather)\n",
    "display(bad_weather)"
   ]
  },
  {
   "cell_type": "markdown",
   "metadata": {},
   "source": [
    "De esta separamos los dias sabados en los que hubo buen clima de los dias sabados en los que no ubo un exelemnte clima para seguir evaluando la duracion de los viajes."
   ]
  },
  {
   "cell_type": "code",
   "execution_count": 28,
   "metadata": {},
   "outputs": [
    {
     "data": {
      "text/html": [
       "<div>\n",
       "<style scoped>\n",
       "    .dataframe tbody tr th:only-of-type {\n",
       "        vertical-align: middle;\n",
       "    }\n",
       "\n",
       "    .dataframe tbody tr th {\n",
       "        vertical-align: top;\n",
       "    }\n",
       "\n",
       "    .dataframe thead th {\n",
       "        text-align: right;\n",
       "    }\n",
       "</style>\n",
       "<table border=\"1\" class=\"dataframe\">\n",
       "  <thead>\n",
       "    <tr style=\"text-align: right;\">\n",
       "      <th></th>\n",
       "      <th>index</th>\n",
       "      <th>duration_seconds</th>\n",
       "    </tr>\n",
       "  </thead>\n",
       "  <tbody>\n",
       "    <tr>\n",
       "      <th>0</th>\n",
       "      <td>0</td>\n",
       "      <td>2410.0</td>\n",
       "    </tr>\n",
       "    <tr>\n",
       "      <th>1</th>\n",
       "      <td>1</td>\n",
       "      <td>1920.0</td>\n",
       "    </tr>\n",
       "    <tr>\n",
       "      <th>2</th>\n",
       "      <td>2</td>\n",
       "      <td>1543.0</td>\n",
       "    </tr>\n",
       "    <tr>\n",
       "      <th>3</th>\n",
       "      <td>3</td>\n",
       "      <td>2512.0</td>\n",
       "    </tr>\n",
       "    <tr>\n",
       "      <th>4</th>\n",
       "      <td>4</td>\n",
       "      <td>1440.0</td>\n",
       "    </tr>\n",
       "    <tr>\n",
       "      <th>...</th>\n",
       "      <td>...</td>\n",
       "      <td>...</td>\n",
       "    </tr>\n",
       "    <tr>\n",
       "      <th>883</th>\n",
       "      <td>1062</td>\n",
       "      <td>1500.0</td>\n",
       "    </tr>\n",
       "    <tr>\n",
       "      <th>884</th>\n",
       "      <td>1063</td>\n",
       "      <td>0.0</td>\n",
       "    </tr>\n",
       "    <tr>\n",
       "      <th>885</th>\n",
       "      <td>1064</td>\n",
       "      <td>1318.0</td>\n",
       "    </tr>\n",
       "    <tr>\n",
       "      <th>886</th>\n",
       "      <td>1065</td>\n",
       "      <td>2100.0</td>\n",
       "    </tr>\n",
       "    <tr>\n",
       "      <th>887</th>\n",
       "      <td>1066</td>\n",
       "      <td>1380.0</td>\n",
       "    </tr>\n",
       "  </tbody>\n",
       "</table>\n",
       "<p>888 rows × 2 columns</p>\n",
       "</div>"
      ],
      "text/plain": [
       "     index  duration_seconds\n",
       "0        0            2410.0\n",
       "1        1            1920.0\n",
       "2        2            1543.0\n",
       "3        3            2512.0\n",
       "4        4            1440.0\n",
       "..     ...               ...\n",
       "883   1062            1500.0\n",
       "884   1063               0.0\n",
       "885   1064            1318.0\n",
       "886   1065            2100.0\n",
       "887   1066            1380.0\n",
       "\n",
       "[888 rows x 2 columns]"
      ]
     },
     "metadata": {},
     "output_type": "display_data"
    },
    {
     "data": {
      "text/html": [
       "<div>\n",
       "<style scoped>\n",
       "    .dataframe tbody tr th:only-of-type {\n",
       "        vertical-align: middle;\n",
       "    }\n",
       "\n",
       "    .dataframe tbody tr th {\n",
       "        vertical-align: top;\n",
       "    }\n",
       "\n",
       "    .dataframe thead th {\n",
       "        text-align: right;\n",
       "    }\n",
       "</style>\n",
       "<table border=\"1\" class=\"dataframe\">\n",
       "  <thead>\n",
       "    <tr style=\"text-align: right;\">\n",
       "      <th></th>\n",
       "      <th>index</th>\n",
       "      <th>duration_seconds</th>\n",
       "    </tr>\n",
       "  </thead>\n",
       "  <tbody>\n",
       "    <tr>\n",
       "      <th>0</th>\n",
       "      <td>6</td>\n",
       "      <td>2969.0</td>\n",
       "    </tr>\n",
       "    <tr>\n",
       "      <th>1</th>\n",
       "      <td>30</td>\n",
       "      <td>1980.0</td>\n",
       "    </tr>\n",
       "    <tr>\n",
       "      <th>2</th>\n",
       "      <td>34</td>\n",
       "      <td>2460.0</td>\n",
       "    </tr>\n",
       "    <tr>\n",
       "      <th>3</th>\n",
       "      <td>51</td>\n",
       "      <td>2760.0</td>\n",
       "    </tr>\n",
       "    <tr>\n",
       "      <th>4</th>\n",
       "      <td>52</td>\n",
       "      <td>2460.0</td>\n",
       "    </tr>\n",
       "    <tr>\n",
       "      <th>...</th>\n",
       "      <td>...</td>\n",
       "      <td>...</td>\n",
       "    </tr>\n",
       "    <tr>\n",
       "      <th>175</th>\n",
       "      <td>1031</td>\n",
       "      <td>2560.0</td>\n",
       "    </tr>\n",
       "    <tr>\n",
       "      <th>176</th>\n",
       "      <td>1032</td>\n",
       "      <td>1908.0</td>\n",
       "    </tr>\n",
       "    <tr>\n",
       "      <th>177</th>\n",
       "      <td>1053</td>\n",
       "      <td>2400.0</td>\n",
       "    </tr>\n",
       "    <tr>\n",
       "      <th>178</th>\n",
       "      <td>1061</td>\n",
       "      <td>2186.0</td>\n",
       "    </tr>\n",
       "    <tr>\n",
       "      <th>179</th>\n",
       "      <td>1067</td>\n",
       "      <td>2834.0</td>\n",
       "    </tr>\n",
       "  </tbody>\n",
       "</table>\n",
       "<p>180 rows × 2 columns</p>\n",
       "</div>"
      ],
      "text/plain": [
       "     index  duration_seconds\n",
       "0        6            2969.0\n",
       "1       30            1980.0\n",
       "2       34            2460.0\n",
       "3       51            2760.0\n",
       "4       52            2460.0\n",
       "..     ...               ...\n",
       "175   1031            2560.0\n",
       "176   1032            1908.0\n",
       "177   1053            2400.0\n",
       "178   1061            2186.0\n",
       "179   1067            2834.0\n",
       "\n",
       "[180 rows x 2 columns]"
      ]
     },
     "metadata": {},
     "output_type": "display_data"
    }
   ],
   "source": [
    "good_weather_durations = good_weather['duration_seconds']\n",
    "bad_weather_durations = bad_weather['duration_seconds']\n",
    "display(good_weather_durations.reset_index())\n",
    "display(bad_weather_durations.reset_index())"
   ]
  },
  {
   "cell_type": "markdown",
   "metadata": {},
   "source": [
    "Y obtenemos la duracion de cada uno de los viajes en las dos condiciones climaticas para los dias sabados. A continuacion vamos a descartar valores atipicos asi como tambien analizar y eliminar posibles outliers de las muestras para asegurar que no afectende manera significativa el test estadístico."
   ]
  },
  {
   "cell_type": "code",
   "execution_count": 29,
   "metadata": {},
   "outputs": [
    {
     "data": {
      "text/html": [
       "<div>\n",
       "<style scoped>\n",
       "    .dataframe tbody tr th:only-of-type {\n",
       "        vertical-align: middle;\n",
       "    }\n",
       "\n",
       "    .dataframe tbody tr th {\n",
       "        vertical-align: top;\n",
       "    }\n",
       "\n",
       "    .dataframe thead th {\n",
       "        text-align: right;\n",
       "    }\n",
       "</style>\n",
       "<table border=\"1\" class=\"dataframe\">\n",
       "  <thead>\n",
       "    <tr style=\"text-align: right;\">\n",
       "      <th></th>\n",
       "      <th>index</th>\n",
       "      <th>duration_seconds</th>\n",
       "    </tr>\n",
       "  </thead>\n",
       "  <tbody>\n",
       "    <tr>\n",
       "      <th>0</th>\n",
       "      <td>count</td>\n",
       "      <td>882.000000</td>\n",
       "    </tr>\n",
       "    <tr>\n",
       "      <th>1</th>\n",
       "      <td>mean</td>\n",
       "      <td>1976.816327</td>\n",
       "    </tr>\n",
       "    <tr>\n",
       "      <th>2</th>\n",
       "      <td>std</td>\n",
       "      <td>702.422011</td>\n",
       "    </tr>\n",
       "    <tr>\n",
       "      <th>3</th>\n",
       "      <td>min</td>\n",
       "      <td>0.000000</td>\n",
       "    </tr>\n",
       "    <tr>\n",
       "      <th>4</th>\n",
       "      <td>25%</td>\n",
       "      <td>1385.250000</td>\n",
       "    </tr>\n",
       "    <tr>\n",
       "      <th>5</th>\n",
       "      <td>50%</td>\n",
       "      <td>1800.000000</td>\n",
       "    </tr>\n",
       "    <tr>\n",
       "      <th>6</th>\n",
       "      <td>75%</td>\n",
       "      <td>2460.000000</td>\n",
       "    </tr>\n",
       "    <tr>\n",
       "      <th>7</th>\n",
       "      <td>max</td>\n",
       "      <td>3982.000000</td>\n",
       "    </tr>\n",
       "  </tbody>\n",
       "</table>\n",
       "</div>"
      ],
      "text/plain": [
       "   index  duration_seconds\n",
       "0  count        882.000000\n",
       "1   mean       1976.816327\n",
       "2    std        702.422011\n",
       "3    min          0.000000\n",
       "4    25%       1385.250000\n",
       "5    50%       1800.000000\n",
       "6    75%       2460.000000\n",
       "7    max       3982.000000"
      ]
     },
     "metadata": {},
     "output_type": "display_data"
    },
    {
     "data": {
      "text/html": [
       "<div>\n",
       "<style scoped>\n",
       "    .dataframe tbody tr th:only-of-type {\n",
       "        vertical-align: middle;\n",
       "    }\n",
       "\n",
       "    .dataframe tbody tr th {\n",
       "        vertical-align: top;\n",
       "    }\n",
       "\n",
       "    .dataframe thead th {\n",
       "        text-align: right;\n",
       "    }\n",
       "</style>\n",
       "<table border=\"1\" class=\"dataframe\">\n",
       "  <thead>\n",
       "    <tr style=\"text-align: right;\">\n",
       "      <th></th>\n",
       "      <th>index</th>\n",
       "      <th>duration_seconds</th>\n",
       "    </tr>\n",
       "  </thead>\n",
       "  <tbody>\n",
       "    <tr>\n",
       "      <th>0</th>\n",
       "      <td>count</td>\n",
       "      <td>177.000000</td>\n",
       "    </tr>\n",
       "    <tr>\n",
       "      <th>1</th>\n",
       "      <td>mean</td>\n",
       "      <td>2434.785311</td>\n",
       "    </tr>\n",
       "    <tr>\n",
       "      <th>2</th>\n",
       "      <td>std</td>\n",
       "      <td>670.068237</td>\n",
       "    </tr>\n",
       "    <tr>\n",
       "      <th>3</th>\n",
       "      <td>min</td>\n",
       "      <td>1182.000000</td>\n",
       "    </tr>\n",
       "    <tr>\n",
       "      <th>4</th>\n",
       "      <td>25%</td>\n",
       "      <td>1980.000000</td>\n",
       "    </tr>\n",
       "    <tr>\n",
       "      <th>5</th>\n",
       "      <td>50%</td>\n",
       "      <td>2560.000000</td>\n",
       "    </tr>\n",
       "    <tr>\n",
       "      <th>6</th>\n",
       "      <td>75%</td>\n",
       "      <td>2926.000000</td>\n",
       "    </tr>\n",
       "    <tr>\n",
       "      <th>7</th>\n",
       "      <td>max</td>\n",
       "      <td>4044.000000</td>\n",
       "    </tr>\n",
       "  </tbody>\n",
       "</table>\n",
       "</div>"
      ],
      "text/plain": [
       "   index  duration_seconds\n",
       "0  count        177.000000\n",
       "1   mean       2434.785311\n",
       "2    std        670.068237\n",
       "3    min       1182.000000\n",
       "4    25%       1980.000000\n",
       "5    50%       2560.000000\n",
       "6    75%       2926.000000\n",
       "7    max       4044.000000"
      ]
     },
     "metadata": {},
     "output_type": "display_data"
    }
   ],
   "source": [
    "def remove_outliers(data):\n",
    "    Q1 = data.quantile(0.25)\n",
    "    Q3 = data.quantile(0.75)\n",
    "    IQR = Q3 - Q1\n",
    "    lower_bound = Q1 - 1.5 * IQR\n",
    "    upper_bound = Q3 + 1.5 * IQR\n",
    "    return data[(data >= lower_bound) & (data <= upper_bound)]\n",
    "good_weather_durations_clean = remove_outliers(good_weather_durations)\n",
    "bad_weather_durations_clean = remove_outliers(bad_weather_durations)\n",
    "display( good_weather_durations_clean.describe().reset_index())\n",
    "display(bad_weather_durations_clean.describe().reset_index())"
   ]
  },
  {
   "cell_type": "markdown",
   "metadata": {},
   "source": [
    "Verificamos y tratamos los outliers mediante una descripcion general, utilizando el IQR (Interquartile Range) o el rango intercuartilico para descartar valores atipicos, y precisamente no tenemos significancias importantes en en los extremos, asi que prodederemos a realizar  el test levene para verificar difencias o igualdades de las varianzas."
   ]
  },
  {
   "cell_type": "code",
   "execution_count": 30,
   "metadata": {},
   "outputs": [],
   "source": [
    "levene_stat, levene_p = stats.levene(good_weather_durations_clean, bad_weather_durations_clean)"
   ]
  },
  {
   "cell_type": "code",
   "execution_count": 31,
   "metadata": {},
   "outputs": [
    {
     "name": "stdout",
     "output_type": "stream",
     "text": [
      "Estadístico de Levene: 0.85\n",
      "Valor p: 0.35636\n",
      "Conclusión: Las varianzas son iguales.\n"
     ]
    }
   ],
   "source": [
    "print(f\"Estadístico de Levene: {levene_stat:.2f}\")\n",
    "print(f\"Valor p: {levene_p:.5f}\")\n",
    "print(\"Conclusión:\", \"Las varianzas son iguales.\" if levene_p > 0.05 else \"Las varianzas son diferentes.\")"
   ]
  },
  {
   "cell_type": "markdown",
   "metadata": {},
   "source": [
    "**Determinamos de esta manera que las variazas son iguales para los dias que tienen buen clima y para los dias que tienen mal clima, tendremos una idea de como poder generar nuestra hipotesis nula, H0 y nuestra hipotesis alternativa H1.**"
   ]
  },
  {
   "cell_type": "markdown",
   "metadata": {},
   "source": [
    "**H0 = La duración promedio de los viajes desde el Loop hasta el Aeropuerto Internacional O'Hare es igual para los dias sábados lluviosos.**"
   ]
  },
  {
   "cell_type": "markdown",
   "metadata": {},
   "source": [
    "**H1 = La duración promedio de los viajes desde el Loop hasta el Aeropuerto Internacional O'Hare cambia para los los sábados lluviosos.**"
   ]
  },
  {
   "cell_type": "code",
   "execution_count": 32,
   "metadata": {},
   "outputs": [],
   "source": [
    "equal_var = levene_p > 0.05\n",
    "t_statistic, p_value = stats.ttest_ind(good_weather_durations_clean, bad_weather_durations_clean, equal_var=equal_var)"
   ]
  },
  {
   "cell_type": "code",
   "execution_count": 33,
   "metadata": {},
   "outputs": [
    {
     "name": "stdout",
     "output_type": "stream",
     "text": [
      "Estadístico t: -7.98\n",
      "Valor p: 0.00000\n",
      "Conclusión: Hay evidencia suficiente para rechazar la hipótesis nula.\n"
     ]
    }
   ],
   "source": [
    "print(f\"Estadístico t: {t_statistic:.2f}\")\n",
    "print(f\"Valor p: {p_value:.5f}\")\n",
    "print(\"Conclusión:\", \"Hay evidencia suficiente para rechazar la hipótesis nula.\" if p_value < 0.05 else \"No hay suficiente evidencia para rechazar la hipótesis nula.\")"
   ]
  },
  {
   "cell_type": "markdown",
   "metadata": {},
   "source": [
    "***Asi comprovamos que la hipotesis alternativa en la que planteamos que \"La duración promedio de los viajes desde el Loop hasta el Aeropuerto Internacional O'Hare cambia los sábados lluviosos\" es correscta, rechazando de esta manera la hipotssis nula, determinamos que las condiciones climaticas efectivamente afecta el comportamiento de los usuarios en los viajes que estos frevuentan.***"
   ]
  }
 ],
 "metadata": {
  "ExecuteTimeLog": [
   {
    "duration": 5184,
    "start_time": "2024-06-10T04:21:26.905Z"
   },
   {
    "duration": 446,
    "start_time": "2024-06-10T04:26:03.794Z"
   },
   {
    "duration": 6,
    "start_time": "2024-06-10T04:26:21.426Z"
   },
   {
    "duration": 6,
    "start_time": "2024-06-10T04:26:32.701Z"
   },
   {
    "duration": 6,
    "start_time": "2024-06-10T04:27:25.623Z"
   },
   {
    "duration": 22,
    "start_time": "2024-06-10T04:27:42.862Z"
   },
   {
    "duration": 45,
    "start_time": "2024-06-10T04:27:54.620Z"
   },
   {
    "duration": 23,
    "start_time": "2024-06-10T04:28:33.233Z"
   },
   {
    "duration": 29,
    "start_time": "2024-06-10T04:29:28.498Z"
   },
   {
    "duration": 22,
    "start_time": "2024-06-10T04:29:39.954Z"
   },
   {
    "duration": 39,
    "start_time": "2024-06-10T04:32:07.979Z"
   },
   {
    "duration": 22,
    "start_time": "2024-06-10T04:32:13.976Z"
   },
   {
    "duration": 25,
    "start_time": "2024-06-10T04:32:53.092Z"
   },
   {
    "duration": 25,
    "start_time": "2024-06-10T04:33:21.953Z"
   },
   {
    "duration": 22,
    "start_time": "2024-06-10T04:33:26.774Z"
   },
   {
    "duration": 24,
    "start_time": "2024-06-10T04:33:35.773Z"
   },
   {
    "duration": 24,
    "start_time": "2024-06-10T04:34:39.779Z"
   },
   {
    "duration": 5,
    "start_time": "2024-06-10T04:35:03.403Z"
   },
   {
    "duration": 6,
    "start_time": "2024-06-10T04:35:17.230Z"
   },
   {
    "duration": 5,
    "start_time": "2024-06-10T04:37:06.876Z"
   },
   {
    "duration": 6,
    "start_time": "2024-06-10T04:38:23.000Z"
   },
   {
    "duration": 19,
    "start_time": "2024-06-10T04:43:59.114Z"
   },
   {
    "duration": 6,
    "start_time": "2024-06-10T04:44:00.817Z"
   },
   {
    "duration": 329,
    "start_time": "2024-06-10T17:20:27.216Z"
   },
   {
    "duration": 25,
    "start_time": "2024-06-10T17:29:01.778Z"
   },
   {
    "duration": 5345,
    "start_time": "2024-06-10T17:29:28.716Z"
   },
   {
    "duration": 293,
    "start_time": "2024-06-10T17:29:34.064Z"
   },
   {
    "duration": 19,
    "start_time": "2024-06-10T17:29:58.056Z"
   },
   {
    "duration": 22,
    "start_time": "2024-06-10T17:33:50.939Z"
   },
   {
    "duration": 15,
    "start_time": "2024-06-10T17:33:59.387Z"
   },
   {
    "duration": 306,
    "start_time": "2024-06-11T03:05:59.669Z"
   },
   {
    "duration": 4697,
    "start_time": "2024-06-11T03:06:06.350Z"
   },
   {
    "duration": 24,
    "start_time": "2024-06-11T03:06:11.051Z"
   },
   {
    "duration": 23,
    "start_time": "2024-06-11T03:06:11.078Z"
   },
   {
    "duration": 13,
    "start_time": "2024-06-11T03:06:17.674Z"
   },
   {
    "duration": 14,
    "start_time": "2024-06-11T03:06:23.778Z"
   },
   {
    "duration": 11,
    "start_time": "2024-06-11T03:06:47.676Z"
   },
   {
    "duration": 13,
    "start_time": "2024-06-11T03:29:45.434Z"
   },
   {
    "duration": 10,
    "start_time": "2024-06-11T03:29:52.332Z"
   },
   {
    "duration": 334,
    "start_time": "2024-06-11T12:55:23.310Z"
   },
   {
    "duration": 20,
    "start_time": "2024-06-11T12:55:29.634Z"
   },
   {
    "duration": 4688,
    "start_time": "2024-06-11T12:55:33.086Z"
   },
   {
    "duration": 36,
    "start_time": "2024-06-11T12:55:37.777Z"
   },
   {
    "duration": 14,
    "start_time": "2024-06-11T12:55:37.816Z"
   },
   {
    "duration": 15,
    "start_time": "2024-06-11T12:55:37.835Z"
   },
   {
    "duration": 9,
    "start_time": "2024-06-11T12:55:37.853Z"
   },
   {
    "duration": 15,
    "start_time": "2024-06-11T12:56:16.716Z"
   },
   {
    "duration": 116,
    "start_time": "2024-06-11T12:56:44.037Z"
   },
   {
    "duration": 9,
    "start_time": "2024-06-11T12:56:48.342Z"
   },
   {
    "duration": 1046,
    "start_time": "2024-06-11T12:57:00.441Z"
   },
   {
    "duration": 15,
    "start_time": "2024-06-11T12:57:04.137Z"
   },
   {
    "duration": 21,
    "start_time": "2024-06-11T12:57:45.465Z"
   },
   {
    "duration": 5129,
    "start_time": "2024-06-12T00:55:46.967Z"
   },
   {
    "duration": 30,
    "start_time": "2024-06-12T00:55:52.100Z"
   },
   {
    "duration": 16,
    "start_time": "2024-06-12T00:55:52.133Z"
   },
   {
    "duration": 16,
    "start_time": "2024-06-12T00:55:52.167Z"
   },
   {
    "duration": 17,
    "start_time": "2024-06-12T00:55:52.187Z"
   },
   {
    "duration": 10,
    "start_time": "2024-06-12T00:55:52.209Z"
   },
   {
    "duration": 58,
    "start_time": "2024-06-12T00:55:52.222Z"
   },
   {
    "duration": 213,
    "start_time": "2024-06-12T00:55:52.284Z"
   },
   {
    "duration": 14,
    "start_time": "2024-06-12T02:35:28.179Z"
   },
   {
    "duration": 23,
    "start_time": "2024-06-12T02:45:49.668Z"
   },
   {
    "duration": 23,
    "start_time": "2024-06-12T02:46:01.233Z"
   },
   {
    "duration": 5310,
    "start_time": "2024-06-12T04:04:53.786Z"
   },
   {
    "duration": 37,
    "start_time": "2024-06-12T04:04:59.100Z"
   },
   {
    "duration": 21,
    "start_time": "2024-06-12T04:04:59.147Z"
   },
   {
    "duration": 18,
    "start_time": "2024-06-12T04:04:59.173Z"
   },
   {
    "duration": 19,
    "start_time": "2024-06-12T04:04:59.195Z"
   },
   {
    "duration": 16,
    "start_time": "2024-06-12T04:04:59.218Z"
   },
   {
    "duration": 223,
    "start_time": "2024-06-12T04:04:59.238Z"
   },
   {
    "duration": 320,
    "start_time": "2024-06-12T04:47:32.147Z"
   },
   {
    "duration": 4692,
    "start_time": "2024-06-12T04:47:37.289Z"
   },
   {
    "duration": 28,
    "start_time": "2024-06-12T04:47:41.984Z"
   },
   {
    "duration": 21,
    "start_time": "2024-06-12T04:47:42.015Z"
   },
   {
    "duration": 16,
    "start_time": "2024-06-12T04:47:42.039Z"
   },
   {
    "duration": 17,
    "start_time": "2024-06-12T04:47:42.060Z"
   },
   {
    "duration": 57,
    "start_time": "2024-06-12T04:47:42.081Z"
   },
   {
    "duration": 14,
    "start_time": "2024-06-12T04:47:46.149Z"
   },
   {
    "duration": 29,
    "start_time": "2024-06-12T04:49:12.711Z"
   },
   {
    "duration": 10,
    "start_time": "2024-06-12T04:49:16.910Z"
   },
   {
    "duration": 15,
    "start_time": "2024-06-12T04:49:16.924Z"
   },
   {
    "duration": 16,
    "start_time": "2024-06-12T04:49:16.942Z"
   },
   {
    "duration": 16,
    "start_time": "2024-06-12T04:49:16.961Z"
   },
   {
    "duration": 13,
    "start_time": "2024-06-12T04:49:16.980Z"
   },
   {
    "duration": 9,
    "start_time": "2024-06-12T04:53:47.935Z"
   },
   {
    "duration": 14,
    "start_time": "2024-06-12T04:53:52.269Z"
   },
   {
    "duration": 16,
    "start_time": "2024-06-12T04:56:57.483Z"
   },
   {
    "duration": 7,
    "start_time": "2024-06-12T04:59:10.476Z"
   },
   {
    "duration": 10,
    "start_time": "2024-06-12T05:00:27.383Z"
   },
   {
    "duration": 5,
    "start_time": "2024-06-12T05:05:15.267Z"
   },
   {
    "duration": 6,
    "start_time": "2024-06-12T05:05:38.744Z"
   },
   {
    "duration": 11,
    "start_time": "2024-06-12T05:05:52.496Z"
   },
   {
    "duration": 4,
    "start_time": "2024-06-12T05:07:00.698Z"
   },
   {
    "duration": 11,
    "start_time": "2024-06-12T05:07:03.239Z"
   },
   {
    "duration": 5,
    "start_time": "2024-06-12T05:07:14.680Z"
   },
   {
    "duration": 11,
    "start_time": "2024-06-12T05:07:15.510Z"
   },
   {
    "duration": 310,
    "start_time": "2024-06-13T01:34:48.162Z"
   },
   {
    "duration": 21,
    "start_time": "2024-06-13T01:34:49.003Z"
   },
   {
    "duration": 4803,
    "start_time": "2024-06-13T01:34:53.640Z"
   },
   {
    "duration": 41,
    "start_time": "2024-06-13T01:34:58.447Z"
   },
   {
    "duration": 15,
    "start_time": "2024-06-13T01:34:58.491Z"
   },
   {
    "duration": 14,
    "start_time": "2024-06-13T01:34:58.511Z"
   },
   {
    "duration": 48,
    "start_time": "2024-06-13T01:34:58.530Z"
   },
   {
    "duration": 15,
    "start_time": "2024-06-13T01:34:58.581Z"
   },
   {
    "duration": 15,
    "start_time": "2024-06-13T01:34:58.600Z"
   },
   {
    "duration": 50,
    "start_time": "2024-06-13T01:34:58.618Z"
   },
   {
    "duration": 17,
    "start_time": "2024-06-13T01:34:58.674Z"
   },
   {
    "duration": 9,
    "start_time": "2024-06-13T01:34:58.695Z"
   },
   {
    "duration": 9,
    "start_time": "2024-06-13T01:34:58.707Z"
   },
   {
    "duration": 4,
    "start_time": "2024-06-13T01:35:01.378Z"
   },
   {
    "duration": 12,
    "start_time": "2024-06-13T01:35:02.150Z"
   },
   {
    "duration": 4,
    "start_time": "2024-06-13T01:35:10.169Z"
   },
   {
    "duration": 2068,
    "start_time": "2024-06-13T01:39:30.136Z"
   },
   {
    "duration": 2120,
    "start_time": "2024-06-13T01:45:13.907Z"
   },
   {
    "duration": 1815,
    "start_time": "2024-06-13T01:46:00.620Z"
   },
   {
    "duration": 4,
    "start_time": "2024-06-13T01:48:52.541Z"
   },
   {
    "duration": 27,
    "start_time": "2024-06-13T01:48:52.549Z"
   },
   {
    "duration": 11,
    "start_time": "2024-06-13T01:48:52.579Z"
   },
   {
    "duration": 15,
    "start_time": "2024-06-13T01:48:52.593Z"
   },
   {
    "duration": 16,
    "start_time": "2024-06-13T01:48:52.612Z"
   },
   {
    "duration": 16,
    "start_time": "2024-06-13T01:48:52.668Z"
   },
   {
    "duration": 15,
    "start_time": "2024-06-13T01:48:52.687Z"
   },
   {
    "duration": 14,
    "start_time": "2024-06-13T01:48:52.705Z"
   },
   {
    "duration": 58,
    "start_time": "2024-06-13T01:48:52.722Z"
   },
   {
    "duration": 29,
    "start_time": "2024-06-13T01:48:52.783Z"
   },
   {
    "duration": 18,
    "start_time": "2024-06-13T01:48:52.818Z"
   },
   {
    "duration": 6,
    "start_time": "2024-06-13T01:48:52.840Z"
   },
   {
    "duration": 11,
    "start_time": "2024-06-13T01:48:52.868Z"
   },
   {
    "duration": 2038,
    "start_time": "2024-06-13T01:49:16.791Z"
   },
   {
    "duration": 5,
    "start_time": "2024-06-13T01:53:03.866Z"
   },
   {
    "duration": 2022,
    "start_time": "2024-06-13T01:53:05.348Z"
   },
   {
    "duration": 3,
    "start_time": "2024-06-13T01:53:27.148Z"
   },
   {
    "duration": 21,
    "start_time": "2024-06-13T01:53:27.155Z"
   },
   {
    "duration": 10,
    "start_time": "2024-06-13T01:53:27.179Z"
   },
   {
    "duration": 13,
    "start_time": "2024-06-13T01:53:27.193Z"
   },
   {
    "duration": 14,
    "start_time": "2024-06-13T01:53:27.212Z"
   },
   {
    "duration": 51,
    "start_time": "2024-06-13T01:53:27.229Z"
   },
   {
    "duration": 14,
    "start_time": "2024-06-13T01:53:27.282Z"
   },
   {
    "duration": 15,
    "start_time": "2024-06-13T01:53:27.299Z"
   },
   {
    "duration": 56,
    "start_time": "2024-06-13T01:53:27.316Z"
   },
   {
    "duration": 132,
    "start_time": "2024-06-13T01:53:27.375Z"
   },
   {
    "duration": 8,
    "start_time": "2024-06-13T01:53:27.511Z"
   },
   {
    "duration": 5,
    "start_time": "2024-06-13T01:53:27.522Z"
   },
   {
    "duration": 40,
    "start_time": "2024-06-13T01:53:27.529Z"
   },
   {
    "duration": 5,
    "start_time": "2024-06-13T01:53:27.573Z"
   },
   {
    "duration": 5,
    "start_time": "2024-06-13T01:53:36.049Z"
   },
   {
    "duration": 2078,
    "start_time": "2024-06-13T01:53:36.996Z"
   },
   {
    "duration": 461,
    "start_time": "2024-06-13T02:22:24.740Z"
   },
   {
    "duration": 1829,
    "start_time": "2024-06-13T03:32:38.110Z"
   },
   {
    "duration": 1992,
    "start_time": "2024-06-13T03:33:38.653Z"
   },
   {
    "duration": 11,
    "start_time": "2024-06-13T03:40:59.921Z"
   },
   {
    "duration": 15,
    "start_time": "2024-06-13T03:41:11.408Z"
   },
   {
    "duration": 16,
    "start_time": "2024-06-13T03:41:12.390Z"
   },
   {
    "duration": 9,
    "start_time": "2024-06-13T03:41:13.879Z"
   },
   {
    "duration": 10,
    "start_time": "2024-06-13T03:41:15.275Z"
   },
   {
    "duration": 6,
    "start_time": "2024-06-13T03:41:16.750Z"
   },
   {
    "duration": 11,
    "start_time": "2024-06-13T03:41:17.604Z"
   },
   {
    "duration": 7,
    "start_time": "2024-06-13T03:42:36.014Z"
   },
   {
    "duration": 5,
    "start_time": "2024-06-13T03:43:02.532Z"
   },
   {
    "duration": 7,
    "start_time": "2024-06-13T03:45:04.241Z"
   },
   {
    "duration": 6,
    "start_time": "2024-06-13T03:45:27.582Z"
   },
   {
    "duration": 8,
    "start_time": "2024-06-13T03:46:32.644Z"
   },
   {
    "duration": 14,
    "start_time": "2024-06-13T03:46:59.656Z"
   },
   {
    "duration": 12,
    "start_time": "2024-06-13T03:47:14.911Z"
   },
   {
    "duration": 7,
    "start_time": "2024-06-13T03:47:26.540Z"
   },
   {
    "duration": 228,
    "start_time": "2024-06-13T03:47:37.816Z"
   },
   {
    "duration": 11,
    "start_time": "2024-06-13T03:47:55.497Z"
   },
   {
    "duration": 12,
    "start_time": "2024-06-13T03:48:21.732Z"
   },
   {
    "duration": 12,
    "start_time": "2024-06-13T03:48:43.444Z"
   },
   {
    "duration": 7,
    "start_time": "2024-06-13T03:52:34.024Z"
   },
   {
    "duration": 8,
    "start_time": "2024-06-13T03:53:17.428Z"
   },
   {
    "duration": 7,
    "start_time": "2024-06-13T03:54:05.140Z"
   },
   {
    "duration": 7,
    "start_time": "2024-06-13T03:54:18.237Z"
   },
   {
    "duration": 7,
    "start_time": "2024-06-13T03:54:26.224Z"
   },
   {
    "duration": 7,
    "start_time": "2024-06-13T03:54:32.776Z"
   },
   {
    "duration": 8,
    "start_time": "2024-06-13T03:55:12.899Z"
   },
   {
    "duration": 6,
    "start_time": "2024-06-13T03:55:32.890Z"
   },
   {
    "duration": 327,
    "start_time": "2024-06-13T03:57:14.863Z"
   },
   {
    "duration": 302,
    "start_time": "2024-06-13T03:57:36.568Z"
   },
   {
    "duration": 304,
    "start_time": "2024-06-13T03:59:15.700Z"
   },
   {
    "duration": 2144,
    "start_time": "2024-06-13T04:12:04.850Z"
   },
   {
    "duration": 2116,
    "start_time": "2024-06-13T04:13:11.013Z"
   },
   {
    "duration": 2078,
    "start_time": "2024-06-13T04:16:33.055Z"
   },
   {
    "duration": 4,
    "start_time": "2024-06-13T04:16:41.586Z"
   },
   {
    "duration": 27,
    "start_time": "2024-06-13T04:16:41.593Z"
   },
   {
    "duration": 11,
    "start_time": "2024-06-13T04:16:41.623Z"
   },
   {
    "duration": 16,
    "start_time": "2024-06-13T04:16:41.638Z"
   },
   {
    "duration": 18,
    "start_time": "2024-06-13T04:16:41.667Z"
   },
   {
    "duration": 16,
    "start_time": "2024-06-13T04:16:41.688Z"
   },
   {
    "duration": 2260,
    "start_time": "2024-06-13T04:16:52.708Z"
   },
   {
    "duration": 10,
    "start_time": "2024-06-13T04:16:54.972Z"
   },
   {
    "duration": 15,
    "start_time": "2024-06-13T04:16:54.986Z"
   },
   {
    "duration": 16,
    "start_time": "2024-06-13T04:16:55.008Z"
   },
   {
    "duration": 11,
    "start_time": "2024-06-13T04:16:55.069Z"
   },
   {
    "duration": 10,
    "start_time": "2024-06-13T04:16:55.084Z"
   },
   {
    "duration": 12,
    "start_time": "2024-06-13T04:16:55.098Z"
   },
   {
    "duration": 348,
    "start_time": "2024-06-13T04:16:55.113Z"
   },
   {
    "duration": 11,
    "start_time": "2024-06-13T04:24:53.753Z"
   },
   {
    "duration": 7,
    "start_time": "2024-06-13T04:25:37.540Z"
   },
   {
    "duration": 17,
    "start_time": "2024-06-13T04:26:11.929Z"
   },
   {
    "duration": 12,
    "start_time": "2024-06-13T04:28:05.852Z"
   },
   {
    "duration": 32,
    "start_time": "2024-06-13T04:28:42.909Z"
   },
   {
    "duration": 28,
    "start_time": "2024-06-13T04:28:47.565Z"
   },
   {
    "duration": 24,
    "start_time": "2024-06-13T04:28:52.342Z"
   },
   {
    "duration": 16,
    "start_time": "2024-06-13T04:29:34.367Z"
   },
   {
    "duration": 8,
    "start_time": "2024-06-13T04:32:01.365Z"
   },
   {
    "duration": 14,
    "start_time": "2024-06-13T04:32:08.129Z"
   },
   {
    "duration": 6,
    "start_time": "2024-06-13T04:33:29.835Z"
   },
   {
    "duration": 13,
    "start_time": "2024-06-13T04:33:30.641Z"
   },
   {
    "duration": 26,
    "start_time": "2024-06-13T04:36:38.238Z"
   },
   {
    "duration": 5,
    "start_time": "2024-06-13T04:39:59.995Z"
   },
   {
    "duration": 5,
    "start_time": "2024-06-13T04:40:24.947Z"
   },
   {
    "duration": 6,
    "start_time": "2024-06-13T04:40:30.214Z"
   },
   {
    "duration": 5,
    "start_time": "2024-06-13T04:40:40.218Z"
   },
   {
    "duration": 8,
    "start_time": "2024-06-13T04:43:57.480Z"
   },
   {
    "duration": 10,
    "start_time": "2024-06-13T04:44:33.506Z"
   },
   {
    "duration": 7,
    "start_time": "2024-06-13T04:46:28.690Z"
   },
   {
    "duration": 15,
    "start_time": "2024-06-13T04:46:28.701Z"
   },
   {
    "duration": 25,
    "start_time": "2024-06-13T04:46:28.719Z"
   },
   {
    "duration": 20,
    "start_time": "2024-06-13T04:46:28.748Z"
   },
   {
    "duration": 5,
    "start_time": "2024-06-13T04:46:28.772Z"
   },
   {
    "duration": 8,
    "start_time": "2024-06-13T04:46:28.781Z"
   },
   {
    "duration": 6,
    "start_time": "2024-06-13T04:48:07.621Z"
   },
   {
    "duration": 9,
    "start_time": "2024-06-13T04:48:12.787Z"
   },
   {
    "duration": 26,
    "start_time": "2024-06-13T04:54:17.580Z"
   },
   {
    "duration": 4,
    "start_time": "2024-06-13T04:54:26.257Z"
   },
   {
    "duration": 19,
    "start_time": "2024-06-13T04:54:26.265Z"
   },
   {
    "duration": 11,
    "start_time": "2024-06-13T04:54:26.287Z"
   },
   {
    "duration": 15,
    "start_time": "2024-06-13T04:54:26.302Z"
   },
   {
    "duration": 51,
    "start_time": "2024-06-13T04:54:26.319Z"
   },
   {
    "duration": 14,
    "start_time": "2024-06-13T04:54:26.373Z"
   },
   {
    "duration": 2170,
    "start_time": "2024-06-13T04:54:26.390Z"
   },
   {
    "duration": 13,
    "start_time": "2024-06-13T04:54:28.568Z"
   },
   {
    "duration": 16,
    "start_time": "2024-06-13T04:54:28.585Z"
   },
   {
    "duration": 16,
    "start_time": "2024-06-13T04:54:28.607Z"
   },
   {
    "duration": 48,
    "start_time": "2024-06-13T04:54:28.626Z"
   },
   {
    "duration": 9,
    "start_time": "2024-06-13T04:54:28.680Z"
   },
   {
    "duration": 14,
    "start_time": "2024-06-13T04:54:28.693Z"
   },
   {
    "duration": 369,
    "start_time": "2024-06-13T04:54:28.709Z"
   },
   {
    "duration": 14,
    "start_time": "2024-06-13T04:54:29.082Z"
   },
   {
    "duration": 16,
    "start_time": "2024-06-13T04:54:29.100Z"
   },
   {
    "duration": 49,
    "start_time": "2024-06-13T04:54:29.120Z"
   },
   {
    "duration": 10,
    "start_time": "2024-06-13T04:54:29.172Z"
   },
   {
    "duration": 17,
    "start_time": "2024-06-13T04:54:29.185Z"
   },
   {
    "duration": 6,
    "start_time": "2024-06-13T04:54:29.205Z"
   },
   {
    "duration": 60,
    "start_time": "2024-06-13T04:54:29.214Z"
   },
   {
    "duration": 27,
    "start_time": "2024-06-13T04:54:29.278Z"
   },
   {
    "duration": 4,
    "start_time": "2024-06-13T04:54:33.515Z"
   },
   {
    "duration": 9,
    "start_time": "2024-06-13T04:55:07.692Z"
   },
   {
    "duration": 25,
    "start_time": "2024-06-13T04:55:41.466Z"
   },
   {
    "duration": 6,
    "start_time": "2024-06-13T04:56:06.078Z"
   },
   {
    "duration": 24,
    "start_time": "2024-06-13T04:56:40.457Z"
   },
   {
    "duration": 7,
    "start_time": "2024-06-13T04:56:58.525Z"
   },
   {
    "duration": 8,
    "start_time": "2024-06-13T04:57:25.919Z"
   },
   {
    "duration": 5,
    "start_time": "2024-06-13T04:57:27.190Z"
   },
   {
    "duration": 5,
    "start_time": "2024-06-13T04:57:28.135Z"
   },
   {
    "duration": 6,
    "start_time": "2024-06-13T04:57:29.210Z"
   },
   {
    "duration": 4788,
    "start_time": "2024-06-14T02:44:19.303Z"
   },
   {
    "duration": 32,
    "start_time": "2024-06-14T02:44:24.094Z"
   },
   {
    "duration": 15,
    "start_time": "2024-06-14T02:44:24.128Z"
   },
   {
    "duration": 14,
    "start_time": "2024-06-14T02:44:24.147Z"
   },
   {
    "duration": 16,
    "start_time": "2024-06-14T02:44:24.164Z"
   },
   {
    "duration": 16,
    "start_time": "2024-06-14T02:44:24.208Z"
   },
   {
    "duration": 2252,
    "start_time": "2024-06-14T02:44:24.227Z"
   },
   {
    "duration": 10,
    "start_time": "2024-06-14T02:44:26.482Z"
   },
   {
    "duration": 22,
    "start_time": "2024-06-14T02:44:26.495Z"
   },
   {
    "duration": 14,
    "start_time": "2024-06-14T02:44:26.523Z"
   },
   {
    "duration": 8,
    "start_time": "2024-06-14T02:44:26.540Z"
   },
   {
    "duration": 9,
    "start_time": "2024-06-14T02:44:26.552Z"
   },
   {
    "duration": 15,
    "start_time": "2024-06-14T02:44:26.605Z"
   },
   {
    "duration": 326,
    "start_time": "2024-06-14T02:44:26.624Z"
   },
   {
    "duration": 14,
    "start_time": "2024-06-14T02:44:26.953Z"
   },
   {
    "duration": 38,
    "start_time": "2024-06-14T02:44:26.972Z"
   },
   {
    "duration": 9,
    "start_time": "2024-06-14T02:44:27.014Z"
   },
   {
    "duration": 10,
    "start_time": "2024-06-14T02:44:27.029Z"
   },
   {
    "duration": 17,
    "start_time": "2024-06-14T02:44:27.043Z"
   },
   {
    "duration": 7,
    "start_time": "2024-06-14T02:44:27.106Z"
   },
   {
    "duration": 14,
    "start_time": "2024-06-14T02:44:27.116Z"
   },
   {
    "duration": 26,
    "start_time": "2024-06-14T02:44:27.134Z"
   },
   {
    "duration": 49,
    "start_time": "2024-06-14T02:44:27.163Z"
   },
   {
    "duration": 7,
    "start_time": "2024-06-14T02:44:27.215Z"
   },
   {
    "duration": 5,
    "start_time": "2024-06-14T02:44:27.226Z"
   },
   {
    "duration": 7,
    "start_time": "2024-06-14T02:44:27.233Z"
   },
   {
    "duration": 6,
    "start_time": "2024-06-14T02:44:27.242Z"
   },
   {
    "duration": 24,
    "start_time": "2024-06-14T02:45:01.417Z"
   },
   {
    "duration": 22,
    "start_time": "2024-06-14T02:45:16.255Z"
   },
   {
    "duration": 11,
    "start_time": "2024-06-14T02:46:18.363Z"
   },
   {
    "duration": 356,
    "start_time": "2024-06-16T02:54:32.092Z"
   },
   {
    "duration": 5072,
    "start_time": "2024-06-16T02:54:37.905Z"
   },
   {
    "duration": 29,
    "start_time": "2024-06-16T02:54:42.981Z"
   },
   {
    "duration": 21,
    "start_time": "2024-06-16T02:54:43.013Z"
   },
   {
    "duration": 15,
    "start_time": "2024-06-16T02:54:43.037Z"
   },
   {
    "duration": 16,
    "start_time": "2024-06-16T02:54:43.057Z"
   },
   {
    "duration": 56,
    "start_time": "2024-06-16T02:54:43.077Z"
   },
   {
    "duration": 2431,
    "start_time": "2024-06-16T02:54:43.135Z"
   },
   {
    "duration": 11,
    "start_time": "2024-06-16T02:54:45.569Z"
   },
   {
    "duration": 16,
    "start_time": "2024-06-16T02:54:45.584Z"
   },
   {
    "duration": 37,
    "start_time": "2024-06-16T02:54:45.603Z"
   },
   {
    "duration": 9,
    "start_time": "2024-06-16T02:54:45.643Z"
   },
   {
    "duration": 9,
    "start_time": "2024-06-16T02:54:45.655Z"
   },
   {
    "duration": 13,
    "start_time": "2024-06-16T02:54:45.666Z"
   },
   {
    "duration": 462,
    "start_time": "2024-06-16T02:54:45.686Z"
   },
   {
    "duration": 13,
    "start_time": "2024-06-16T02:54:46.151Z"
   },
   {
    "duration": 14,
    "start_time": "2024-06-16T02:54:46.168Z"
   },
   {
    "duration": 10,
    "start_time": "2024-06-16T02:54:46.186Z"
   },
   {
    "duration": 12,
    "start_time": "2024-06-16T02:54:46.235Z"
   },
   {
    "duration": 17,
    "start_time": "2024-06-16T02:54:46.250Z"
   },
   {
    "duration": 11,
    "start_time": "2024-06-16T02:54:46.271Z"
   },
   {
    "duration": 55,
    "start_time": "2024-06-16T02:54:46.285Z"
   },
   {
    "duration": 16,
    "start_time": "2024-06-16T02:54:46.345Z"
   },
   {
    "duration": 18,
    "start_time": "2024-06-16T02:55:08.165Z"
   },
   {
    "duration": 8,
    "start_time": "2024-06-16T02:56:13.270Z"
   },
   {
    "duration": 12,
    "start_time": "2024-06-16T02:56:16.760Z"
   },
   {
    "duration": 8,
    "start_time": "2024-06-16T02:57:39.860Z"
   },
   {
    "duration": 12,
    "start_time": "2024-06-16T02:58:10.198Z"
   },
   {
    "duration": 122,
    "start_time": "2024-06-16T03:02:31.643Z"
   },
   {
    "duration": 4,
    "start_time": "2024-06-16T03:02:38.744Z"
   },
   {
    "duration": 16,
    "start_time": "2024-06-16T03:02:38.752Z"
   },
   {
    "duration": 13,
    "start_time": "2024-06-16T03:02:38.771Z"
   },
   {
    "duration": 14,
    "start_time": "2024-06-16T03:02:38.789Z"
   },
   {
    "duration": 15,
    "start_time": "2024-06-16T03:02:38.834Z"
   },
   {
    "duration": 15,
    "start_time": "2024-06-16T03:02:38.852Z"
   },
   {
    "duration": 2337,
    "start_time": "2024-06-16T03:02:38.870Z"
   },
   {
    "duration": 25,
    "start_time": "2024-06-16T03:02:41.211Z"
   },
   {
    "duration": 15,
    "start_time": "2024-06-16T03:02:41.238Z"
   },
   {
    "duration": 15,
    "start_time": "2024-06-16T03:02:41.259Z"
   },
   {
    "duration": 8,
    "start_time": "2024-06-16T03:02:41.277Z"
   },
   {
    "duration": 51,
    "start_time": "2024-06-16T03:02:41.289Z"
   },
   {
    "duration": 27,
    "start_time": "2024-06-16T03:02:41.346Z"
   },
   {
    "duration": 364,
    "start_time": "2024-06-16T03:02:41.375Z"
   },
   {
    "duration": 15,
    "start_time": "2024-06-16T03:02:41.742Z"
   },
   {
    "duration": 14,
    "start_time": "2024-06-16T03:02:41.761Z"
   },
   {
    "duration": 10,
    "start_time": "2024-06-16T03:02:41.778Z"
   },
   {
    "duration": 44,
    "start_time": "2024-06-16T03:02:41.790Z"
   },
   {
    "duration": 16,
    "start_time": "2024-06-16T03:02:41.837Z"
   },
   {
    "duration": 6,
    "start_time": "2024-06-16T03:02:41.856Z"
   },
   {
    "duration": 16,
    "start_time": "2024-06-16T03:02:41.865Z"
   },
   {
    "duration": 939,
    "start_time": "2024-06-16T03:02:41.884Z"
   },
   {
    "duration": 0,
    "start_time": "2024-06-16T03:02:42.826Z"
   },
   {
    "duration": 0,
    "start_time": "2024-06-16T03:02:42.832Z"
   },
   {
    "duration": 0,
    "start_time": "2024-06-16T03:02:42.834Z"
   },
   {
    "duration": 0,
    "start_time": "2024-06-16T03:02:42.836Z"
   },
   {
    "duration": 0,
    "start_time": "2024-06-16T03:02:42.838Z"
   },
   {
    "duration": 90,
    "start_time": "2024-06-16T03:05:57.383Z"
   },
   {
    "duration": 42,
    "start_time": "2024-06-16T03:06:56.057Z"
   },
   {
    "duration": 9,
    "start_time": "2024-06-16T03:08:02.429Z"
   },
   {
    "duration": 12,
    "start_time": "2024-06-16T03:09:15.473Z"
   },
   {
    "duration": 11,
    "start_time": "2024-06-16T03:09:30.171Z"
   },
   {
    "duration": 4,
    "start_time": "2024-06-16T03:09:33.036Z"
   },
   {
    "duration": 30,
    "start_time": "2024-06-16T03:09:35.950Z"
   },
   {
    "duration": 9,
    "start_time": "2024-06-16T03:11:04.677Z"
   },
   {
    "duration": 7,
    "start_time": "2024-06-16T03:11:05.301Z"
   },
   {
    "duration": 11,
    "start_time": "2024-06-16T03:11:35.148Z"
   },
   {
    "duration": 7,
    "start_time": "2024-06-16T03:11:36.244Z"
   },
   {
    "duration": 4,
    "start_time": "2024-06-16T03:11:36.820Z"
   },
   {
    "duration": 5,
    "start_time": "2024-06-16T03:12:10.988Z"
   },
   {
    "duration": 6,
    "start_time": "2024-06-16T03:12:21.000Z"
   },
   {
    "duration": 10,
    "start_time": "2024-06-16T03:13:40.049Z"
   },
   {
    "duration": 8,
    "start_time": "2024-06-16T03:13:40.935Z"
   },
   {
    "duration": 4,
    "start_time": "2024-06-16T03:13:41.724Z"
   },
   {
    "duration": 273,
    "start_time": "2024-06-16T03:21:28.505Z"
   },
   {
    "duration": 31,
    "start_time": "2024-06-16T03:25:18.540Z"
   },
   {
    "duration": 3,
    "start_time": "2024-06-16T03:25:38.251Z"
   },
   {
    "duration": 21,
    "start_time": "2024-06-16T03:25:38.258Z"
   },
   {
    "duration": 10,
    "start_time": "2024-06-16T03:25:38.284Z"
   },
   {
    "duration": 14,
    "start_time": "2024-06-16T03:25:38.297Z"
   },
   {
    "duration": 15,
    "start_time": "2024-06-16T03:25:38.335Z"
   },
   {
    "duration": 15,
    "start_time": "2024-06-16T03:25:38.353Z"
   },
   {
    "duration": 2168,
    "start_time": "2024-06-16T03:25:38.371Z"
   },
   {
    "duration": 10,
    "start_time": "2024-06-16T03:25:40.543Z"
   },
   {
    "duration": 15,
    "start_time": "2024-06-16T03:25:40.556Z"
   },
   {
    "duration": 59,
    "start_time": "2024-06-16T03:25:40.574Z"
   },
   {
    "duration": 8,
    "start_time": "2024-06-16T03:25:40.641Z"
   },
   {
    "duration": 10,
    "start_time": "2024-06-16T03:25:40.651Z"
   },
   {
    "duration": 13,
    "start_time": "2024-06-16T03:25:40.664Z"
   },
   {
    "duration": 446,
    "start_time": "2024-06-16T03:25:40.681Z"
   },
   {
    "duration": 12,
    "start_time": "2024-06-16T03:25:41.135Z"
   },
   {
    "duration": 16,
    "start_time": "2024-06-16T03:25:41.150Z"
   },
   {
    "duration": 10,
    "start_time": "2024-06-16T03:25:41.169Z"
   },
   {
    "duration": 54,
    "start_time": "2024-06-16T03:25:41.182Z"
   },
   {
    "duration": 16,
    "start_time": "2024-06-16T03:25:41.239Z"
   },
   {
    "duration": 7,
    "start_time": "2024-06-16T03:25:41.258Z"
   },
   {
    "duration": 16,
    "start_time": "2024-06-16T03:25:41.268Z"
   },
   {
    "duration": 51,
    "start_time": "2024-06-16T03:25:41.288Z"
   },
   {
    "duration": 9,
    "start_time": "2024-06-16T03:25:41.342Z"
   },
   {
    "duration": 30,
    "start_time": "2024-06-16T03:25:53.452Z"
   },
   {
    "duration": 29,
    "start_time": "2024-06-16T03:26:07.593Z"
   },
   {
    "duration": 4,
    "start_time": "2024-06-16T03:28:22.245Z"
   },
   {
    "duration": 6,
    "start_time": "2024-06-16T03:28:23.856Z"
   },
   {
    "duration": 1125,
    "start_time": "2024-06-16T04:51:23.265Z"
   },
   {
    "duration": 31,
    "start_time": "2024-06-16T04:51:24.395Z"
   },
   {
    "duration": 14,
    "start_time": "2024-06-16T04:51:24.429Z"
   },
   {
    "duration": 15,
    "start_time": "2024-06-16T04:51:24.445Z"
   },
   {
    "duration": 16,
    "start_time": "2024-06-16T04:51:24.467Z"
   },
   {
    "duration": 16,
    "start_time": "2024-06-16T04:51:24.513Z"
   },
   {
    "duration": 2155,
    "start_time": "2024-06-16T04:51:24.532Z"
   },
   {
    "duration": 23,
    "start_time": "2024-06-16T04:51:26.690Z"
   },
   {
    "duration": 18,
    "start_time": "2024-06-16T04:51:26.716Z"
   },
   {
    "duration": 16,
    "start_time": "2024-06-16T04:51:26.737Z"
   },
   {
    "duration": 13,
    "start_time": "2024-06-16T04:51:26.756Z"
   },
   {
    "duration": 42,
    "start_time": "2024-06-16T04:51:26.773Z"
   },
   {
    "duration": 13,
    "start_time": "2024-06-16T04:51:26.818Z"
   },
   {
    "duration": 335,
    "start_time": "2024-06-16T04:51:26.836Z"
   },
   {
    "duration": 11,
    "start_time": "2024-06-16T04:51:27.174Z"
   },
   {
    "duration": 34,
    "start_time": "2024-06-16T04:51:27.189Z"
   },
   {
    "duration": 8,
    "start_time": "2024-06-16T04:51:27.226Z"
   },
   {
    "duration": 11,
    "start_time": "2024-06-16T04:51:27.237Z"
   },
   {
    "duration": 15,
    "start_time": "2024-06-16T04:51:27.251Z"
   },
   {
    "duration": 6,
    "start_time": "2024-06-16T04:51:58.637Z"
   },
   {
    "duration": 14,
    "start_time": "2024-06-16T04:51:59.182Z"
   },
   {
    "duration": 16,
    "start_time": "2024-06-16T04:52:09.071Z"
   },
   {
    "duration": 14,
    "start_time": "2024-06-16T04:52:17.609Z"
   },
   {
    "duration": 13,
    "start_time": "2024-06-16T05:09:12.245Z"
   },
   {
    "duration": 9,
    "start_time": "2024-06-16T05:09:16.237Z"
   },
   {
    "duration": 7,
    "start_time": "2024-06-16T05:09:19.415Z"
   },
   {
    "duration": 19,
    "start_time": "2024-06-16T05:09:36.837Z"
   },
   {
    "duration": 20,
    "start_time": "2024-06-16T05:09:56.782Z"
   },
   {
    "duration": 6,
    "start_time": "2024-06-16T05:10:05.388Z"
   },
   {
    "duration": 19,
    "start_time": "2024-06-16T05:10:30.734Z"
   },
   {
    "duration": 316,
    "start_time": "2024-06-17T03:21:35.145Z"
   },
   {
    "duration": 4831,
    "start_time": "2024-06-17T03:21:43.339Z"
   },
   {
    "duration": 33,
    "start_time": "2024-06-17T03:21:48.173Z"
   },
   {
    "duration": 14,
    "start_time": "2024-06-17T03:21:48.210Z"
   },
   {
    "duration": 14,
    "start_time": "2024-06-17T03:21:48.232Z"
   },
   {
    "duration": 16,
    "start_time": "2024-06-17T03:21:48.250Z"
   },
   {
    "duration": 16,
    "start_time": "2024-06-17T03:21:48.269Z"
   },
   {
    "duration": 2245,
    "start_time": "2024-06-17T03:21:48.288Z"
   },
   {
    "duration": 12,
    "start_time": "2024-06-17T03:21:50.537Z"
   },
   {
    "duration": 14,
    "start_time": "2024-06-17T03:21:50.553Z"
   },
   {
    "duration": 15,
    "start_time": "2024-06-17T03:21:50.572Z"
   },
   {
    "duration": 50,
    "start_time": "2024-06-17T03:21:50.589Z"
   },
   {
    "duration": 9,
    "start_time": "2024-06-17T03:21:50.642Z"
   },
   {
    "duration": 13,
    "start_time": "2024-06-17T03:21:50.655Z"
   },
   {
    "duration": 364,
    "start_time": "2024-06-17T03:21:50.672Z"
   },
   {
    "duration": 11,
    "start_time": "2024-06-17T03:21:51.039Z"
   },
   {
    "duration": 13,
    "start_time": "2024-06-17T03:21:51.053Z"
   },
   {
    "duration": 9,
    "start_time": "2024-06-17T03:21:51.068Z"
   },
   {
    "duration": 53,
    "start_time": "2024-06-17T03:21:51.081Z"
   },
   {
    "duration": 18,
    "start_time": "2024-06-17T03:21:51.137Z"
   },
   {
    "duration": 6,
    "start_time": "2024-06-17T03:21:51.158Z"
   },
   {
    "duration": 14,
    "start_time": "2024-06-17T03:21:51.167Z"
   },
   {
    "duration": 166,
    "start_time": "2024-06-17T03:21:51.187Z"
   },
   {
    "duration": 0,
    "start_time": "2024-06-17T03:21:51.357Z"
   },
   {
    "duration": 8,
    "start_time": "2024-06-17T03:22:16.469Z"
   },
   {
    "duration": 10,
    "start_time": "2024-06-17T03:23:08.532Z"
   },
   {
    "duration": 28,
    "start_time": "2024-06-17T03:23:33.041Z"
   },
   {
    "duration": 17,
    "start_time": "2024-06-17T03:23:53.321Z"
   },
   {
    "duration": 7,
    "start_time": "2024-06-17T03:28:40.147Z"
   },
   {
    "duration": 24,
    "start_time": "2024-06-17T03:28:43.649Z"
   },
   {
    "duration": 9,
    "start_time": "2024-06-17T03:29:43.130Z"
   },
   {
    "duration": 5,
    "start_time": "2024-06-17T03:29:47.501Z"
   },
   {
    "duration": 10,
    "start_time": "2024-06-17T03:30:58.571Z"
   },
   {
    "duration": 5,
    "start_time": "2024-06-17T03:30:59.167Z"
   },
   {
    "duration": 33,
    "start_time": "2024-06-17T03:34:30.582Z"
   },
   {
    "duration": 13,
    "start_time": "2024-06-17T03:35:16.136Z"
   },
   {
    "duration": 29,
    "start_time": "2024-06-17T03:35:32.577Z"
   },
   {
    "duration": 28,
    "start_time": "2024-06-17T03:35:36.162Z"
   },
   {
    "duration": 24,
    "start_time": "2024-06-17T03:35:59.100Z"
   },
   {
    "duration": 30,
    "start_time": "2024-06-17T03:39:42.758Z"
   },
   {
    "duration": 8,
    "start_time": "2024-06-17T03:41:29.585Z"
   },
   {
    "duration": 22,
    "start_time": "2024-06-17T03:42:23.144Z"
   },
   {
    "duration": 31,
    "start_time": "2024-06-17T03:42:51.163Z"
   },
   {
    "duration": 11,
    "start_time": "2024-06-17T03:43:13.534Z"
   },
   {
    "duration": 13,
    "start_time": "2024-06-17T03:43:16.154Z"
   },
   {
    "duration": 30,
    "start_time": "2024-06-17T03:46:29.614Z"
   },
   {
    "duration": 25,
    "start_time": "2024-06-17T03:51:52.734Z"
   },
   {
    "duration": 34,
    "start_time": "2024-06-17T03:52:15.434Z"
   },
   {
    "duration": 6,
    "start_time": "2024-06-17T03:53:19.734Z"
   },
   {
    "duration": 6,
    "start_time": "2024-06-17T03:53:52.562Z"
   },
   {
    "duration": 5,
    "start_time": "2024-06-17T03:53:52.879Z"
   },
   {
    "duration": 6,
    "start_time": "2024-06-17T03:54:31.280Z"
   },
   {
    "duration": 6,
    "start_time": "2024-06-17T03:55:20.462Z"
   },
   {
    "duration": 6,
    "start_time": "2024-06-17T03:55:44.449Z"
   },
   {
    "duration": 4,
    "start_time": "2024-06-17T03:55:51.073Z"
   },
   {
    "duration": 5,
    "start_time": "2024-06-17T03:56:34.311Z"
   },
   {
    "duration": 35,
    "start_time": "2024-06-17T03:59:57.018Z"
   },
   {
    "duration": 5,
    "start_time": "2024-06-17T03:59:58.485Z"
   },
   {
    "duration": 5,
    "start_time": "2024-06-17T03:59:59.391Z"
   },
   {
    "duration": 4,
    "start_time": "2024-06-17T04:03:41.612Z"
   },
   {
    "duration": 5,
    "start_time": "2024-06-17T04:04:15.685Z"
   },
   {
    "duration": 5,
    "start_time": "2024-06-17T04:04:44.806Z"
   }
  ],
  "kernelspec": {
   "display_name": "Python 3 (ipykernel)",
   "language": "python",
   "name": "python3"
  },
  "language_info": {
   "codemirror_mode": {
    "name": "ipython",
    "version": 3
   },
   "file_extension": ".py",
   "mimetype": "text/x-python",
   "name": "python",
   "nbconvert_exporter": "python",
   "pygments_lexer": "ipython3",
   "version": "3.12.2"
  },
  "toc": {
   "base_numbering": 1,
   "nav_menu": {},
   "number_sections": true,
   "sideBar": true,
   "skip_h1_title": true,
   "title_cell": "Table of Contents",
   "title_sidebar": "Contents",
   "toc_cell": false,
   "toc_position": {},
   "toc_section_display": true,
   "toc_window_display": false
  }
 },
 "nbformat": 4,
 "nbformat_minor": 2
}
